{
 "cells": [
  {
   "cell_type": "code",
   "execution_count": 1,
   "metadata": {
    "scrolled": true
   },
   "outputs": [
    {
     "name": "stdout",
     "output_type": "stream",
     "text": [
      "Wed Jul 15 03:13:13 2020       \r\n",
      "+-----------------------------------------------------------------------------+\r\n",
      "| NVIDIA-SMI 440.33.01    Driver Version: 440.33.01    CUDA Version: 10.2     |\r\n",
      "|-------------------------------+----------------------+----------------------+\r\n",
      "| GPU  Name        Persistence-M| Bus-Id        Disp.A | Volatile Uncorr. ECC |\r\n",
      "| Fan  Temp  Perf  Pwr:Usage/Cap|         Memory-Usage | GPU-Util  Compute M. |\r\n",
      "|===============================+======================+======================|\r\n",
      "|   0  GeForce RTX 208...  Off  | 00000000:3B:00.0 Off |                  N/A |\r\n",
      "| 66%   67C    P0    75W / 250W |      0MiB / 11019MiB |      1%      Default |\r\n",
      "+-------------------------------+----------------------+----------------------+\r\n",
      "|   1  GeForce RTX 208...  Off  | 00000000:5E:00.0 Off |                  N/A |\r\n",
      "| 62%   66C    P0    79W / 250W |      0MiB / 11019MiB |      1%      Default |\r\n",
      "+-------------------------------+----------------------+----------------------+\r\n",
      "|   2  GeForce RTX 208...  Off  | 00000000:86:00.0 Off |                  N/A |\r\n",
      "| 44%   58C    P0    55W / 250W |      0MiB / 11019MiB |      0%      Default |\r\n",
      "+-------------------------------+----------------------+----------------------+\r\n",
      "|   3  GeForce RTX 208...  Off  | 00000000:AF:00.0 Off |                  N/A |\r\n",
      "| 79%   69C    P0    40W / 250W |      0MiB / 11016MiB |      0%      Default |\r\n",
      "+-------------------------------+----------------------+----------------------+\r\n",
      "                                                                               \r\n",
      "+-----------------------------------------------------------------------------+\r\n",
      "| Processes:                                                       GPU Memory |\r\n",
      "|  GPU       PID   Type   Process name                             Usage      |\r\n",
      "|=============================================================================|\r\n",
      "|  No running processes found                                                 |\r\n",
      "+-----------------------------------------------------------------------------+\r\n"
     ]
    }
   ],
   "source": [
    "!nvidia-smi"
   ]
  },
  {
   "cell_type": "code",
   "execution_count": 2,
   "metadata": {},
   "outputs": [],
   "source": [
    "import torch\n",
    "import torchvision\n",
    "import torchvision.transforms as transforms"
   ]
  },
  {
   "cell_type": "code",
   "execution_count": 3,
   "metadata": {},
   "outputs": [
    {
     "name": "stdout",
     "output_type": "stream",
     "text": [
      "Files already downloaded and verified\n",
      "Files already downloaded and verified\n"
     ]
    }
   ],
   "source": [
    "transform = transforms.Compose(\n",
    "    [transforms.ToTensor(),\n",
    "     transforms.Normalize((0.5, 0.5, 0.5), (0.5, 0.5, 0.5))])\n",
    "\n",
    "trainset = torchvision.datasets.CIFAR10(root='./data', train=True,\n",
    "                                        download=True, transform=transform)\n",
    "trainloader = torch.utils.data.DataLoader(trainset, batch_size=512,\n",
    "                                          shuffle=True, num_workers=2)\n",
    "\n",
    "testset = torchvision.datasets.CIFAR10(root='./data', train=False,\n",
    "                                       download=True, transform=transform)\n",
    "testloader = torch.utils.data.DataLoader(testset, batch_size=512,\n",
    "                                         shuffle=False, num_workers=2)\n",
    "\n",
    "classes = ('plane', 'car', 'bird', 'cat',\n",
    "           'deer', 'dog', 'frog', 'horse', 'ship', 'truck')"
   ]
  },
  {
   "cell_type": "code",
   "execution_count": 4,
   "metadata": {},
   "outputs": [
    {
     "data": {
      "text/plain": [
       "tensor([1.5263e-36, 0.0000e+00, 1.5263e-36, 0.0000e+00, 1.5263e-36, 0.0000e+00,\n",
       "        1.1351e-43, 0.0000e+00])"
      ]
     },
     "execution_count": 4,
     "metadata": {},
     "output_type": "execute_result"
    }
   ],
   "source": [
    "torch.Tensor(8)"
   ]
  },
  {
   "cell_type": "code",
   "execution_count": 5,
   "metadata": {},
   "outputs": [],
   "source": [
    "from torch.nn.parallel.data_parallel import DataParallel\n",
    "from torch.nn.parallel import DistributedDataParallel as DDP\n",
    "import torch.distributed as dist\n",
    "import os\n",
    "\n",
    "os.environ['MASTER_ADDR'] = '127.0.0.1'\n",
    "os.environ['MASTER_PORT'] = '29500'\n",
    "dist.init_process_group(backend='nccl',rank=0,world_size=1)"
   ]
  },
  {
   "cell_type": "code",
   "execution_count": 6,
   "metadata": {},
   "outputs": [],
   "source": [
    "from darts import Darts\n",
    "\n",
    "net = Darts(C=36,num_classes=10,num_layers=8)\n",
    "\n"
   ]
  },
  {
   "cell_type": "code",
   "execution_count": 7,
   "metadata": {},
   "outputs": [
    {
     "name": "stdout",
     "output_type": "stream",
     "text": [
      "cuda:0\n"
     ]
    }
   ],
   "source": [
    "device = torch.device(\"cuda:0\" if torch.cuda.is_available() else \"cpu\")\n",
    "\n",
    "# CUDA 기기가 존재한다면, 아래 코드가 CUDA 장치를 출력합니다:\n",
    "\n",
    "print(device)"
   ]
  },
  {
   "cell_type": "code",
   "execution_count": 8,
   "metadata": {},
   "outputs": [],
   "source": [
    "net.to(device)\n",
    "if torch.cuda.device_count() > 1:\n",
    "    net = DDP(net,device_ids = [0,1,2,3])"
   ]
  },
  {
   "cell_type": "code",
   "execution_count": 9,
   "metadata": {},
   "outputs": [],
   "source": [
    "# [x if 'arch' in x[0] else  for x in net.named_parameters()]\n",
    "arch_params = []\n",
    "weight_params = []\n",
    "for x in net.named_parameters():\n",
    "    if 'arch' in x[0]:\n",
    "        arch_params.append(x[1])\n",
    "    else:\n",
    "        weight_params.append(x[1])\n"
   ]
  },
  {
   "cell_type": "code",
   "execution_count": 10,
   "metadata": {},
   "outputs": [],
   "source": [
    "import torch.optim as optim\n",
    "import torch\n",
    "import torch.nn as nn\n",
    "\n",
    "criterion = nn.CrossEntropyLoss()\n",
    "optimizer_weight = optim.SGD(weight_params, lr=0.01, momentum=0.9)\n",
    "optimizer_arch = optim.Adam(arch_params, lr=0.001)"
   ]
  },
  {
   "cell_type": "code",
   "execution_count": 11,
   "metadata": {},
   "outputs": [],
   "source": [
    "OPS = [\n",
    "            'none',\n",
    "            'max_pool_3x3',\n",
    "            'avg_pool_3x3',\n",
    "            'skip_connect',\n",
    "            'sep_conv_3x3',\n",
    "            'sep_conv_5x5',\n",
    "            'dil_conv_3x3',\n",
    "            'dil_conv_5x5'\n",
    "        ]"
   ]
  },
  {
   "cell_type": "code",
   "execution_count": null,
   "metadata": {
    "scrolled": true
   },
   "outputs": [
    {
     "name": "stderr",
     "output_type": "stream",
     "text": [
      "100%|██████████| 98/98 [02:52<00:00,  1.76s/it]\n"
     ]
    },
    {
     "name": "stdout",
     "output_type": "stream",
     "text": [
      "epoch: 0\n",
      "Accuracy of     0 : 50 %\n",
      "Accuracy of     1 : 37 %\n",
      "Accuracy of     2 : 23 %\n",
      "Accuracy of     3 : 13 %\n",
      "Accuracy of     4 : 36 %\n",
      "Accuracy of     5 : 17 %\n",
      "Accuracy of     6 : 49 %\n",
      "Accuracy of     7 : 73 %\n",
      "Accuracy of     8 : 66 %\n",
      "Accuracy of     9 : 67 %\n",
      "arch_param_normal\n",
      "sep_conv_3x3 none \n",
      "none none none \n",
      "max_pool_3x3 max_pool_3x3 max_pool_3x3 max_pool_3x3 \n",
      "none none none none none \n",
      "\n",
      "arch_param_reduc\n",
      "sep_conv_3x3 none \n",
      "none none none \n",
      "none none none none \n",
      "none none none none none \n",
      "epoch: 1/50 | step: 4/98 | trn loss: 1.6171 | val loss: 1.4980\n",
      "Accuracy of the network on the test images: 43 %\n"
     ]
    },
    {
     "name": "stderr",
     "output_type": "stream",
     "text": [
      "100%|██████████| 98/98 [03:02<00:00,  1.86s/it]\n"
     ]
    },
    {
     "name": "stdout",
     "output_type": "stream",
     "text": [
      "epoch: 1\n",
      "Accuracy of     0 : 70 %\n",
      "Accuracy of     1 : 63 %\n",
      "Accuracy of     2 : 28 %\n",
      "Accuracy of     3 : 33 %\n",
      "Accuracy of     4 : 56 %\n",
      "Accuracy of     5 : 53 %\n",
      "Accuracy of     6 : 37 %\n",
      "Accuracy of     7 : 75 %\n",
      "Accuracy of     8 : 47 %\n",
      "Accuracy of     9 : 76 %\n",
      "arch_param_normal\n",
      "sep_conv_3x3 sep_conv_5x5 \n",
      "max_pool_3x3 dil_conv_3x3 skip_connect \n",
      "max_pool_3x3 sep_conv_5x5 max_pool_3x3 max_pool_3x3 \n",
      "sep_conv_5x5 dil_conv_3x3 max_pool_3x3 sep_conv_3x3 dil_conv_5x5 \n",
      "\n",
      "arch_param_reduc\n",
      "max_pool_3x3 none \n",
      "none sep_conv_3x3 dil_conv_5x5 \n",
      "sep_conv_3x3 none sep_conv_3x3 sep_conv_5x5 \n",
      "dil_conv_5x5 sep_conv_3x3 dil_conv_5x5 sep_conv_3x3 dil_conv_3x3 \n",
      "epoch: 2/50 | step: 4/98 | trn loss: 1.2495 | val loss: 1.2590\n",
      "Accuracy of the network on the test images: 54 %\n"
     ]
    },
    {
     "name": "stderr",
     "output_type": "stream",
     "text": [
      "100%|██████████| 98/98 [03:00<00:00,  1.84s/it]\n"
     ]
    },
    {
     "name": "stdout",
     "output_type": "stream",
     "text": [
      "epoch: 2\n",
      "Accuracy of     0 : 69 %\n",
      "Accuracy of     1 : 82 %\n",
      "Accuracy of     2 : 34 %\n",
      "Accuracy of     3 : 36 %\n",
      "Accuracy of     4 : 61 %\n",
      "Accuracy of     5 : 38 %\n",
      "Accuracy of     6 : 83 %\n",
      "Accuracy of     7 : 68 %\n",
      "Accuracy of     8 : 57 %\n",
      "Accuracy of     9 : 73 %\n",
      "arch_param_normal\n",
      "sep_conv_3x3 max_pool_3x3 \n",
      "skip_connect dil_conv_3x3 avg_pool_3x3 \n",
      "max_pool_3x3 max_pool_3x3 max_pool_3x3 max_pool_3x3 \n",
      "sep_conv_5x5 none avg_pool_3x3 dil_conv_5x5 dil_conv_5x5 \n",
      "\n",
      "arch_param_reduc\n",
      "max_pool_3x3 none \n",
      "none sep_conv_3x3 dil_conv_5x5 \n",
      "sep_conv_3x3 none sep_conv_3x3 sep_conv_5x5 \n",
      "dil_conv_5x5 sep_conv_3x3 dil_conv_5x5 sep_conv_3x3 dil_conv_3x3 \n",
      "epoch: 3/50 | step: 4/98 | trn loss: 1.0933 | val loss: 1.1010\n",
      "Accuracy of the network on the test images: 60 %\n"
     ]
    },
    {
     "name": "stderr",
     "output_type": "stream",
     "text": [
      "100%|██████████| 98/98 [02:51<00:00,  1.75s/it]\n"
     ]
    },
    {
     "name": "stdout",
     "output_type": "stream",
     "text": [
      "epoch: 3\n",
      "Accuracy of     0 : 55 %\n",
      "Accuracy of     1 : 94 %\n",
      "Accuracy of     2 : 25 %\n",
      "Accuracy of     3 : 40 %\n",
      "Accuracy of     4 : 74 %\n",
      "Accuracy of     5 : 39 %\n",
      "Accuracy of     6 : 77 %\n",
      "Accuracy of     7 : 47 %\n",
      "Accuracy of     8 : 85 %\n",
      "Accuracy of     9 : 56 %\n",
      "arch_param_normal\n",
      "sep_conv_3x3 max_pool_3x3 \n",
      "skip_connect max_pool_3x3 avg_pool_3x3 \n",
      "max_pool_3x3 max_pool_3x3 max_pool_3x3 max_pool_3x3 \n",
      "sep_conv_5x5 max_pool_3x3 avg_pool_3x3 skip_connect dil_conv_5x5 \n",
      "\n",
      "arch_param_reduc\n",
      "max_pool_3x3 dil_conv_3x3 \n",
      "none none sep_conv_5x5 \n",
      "sep_conv_3x3 dil_conv_5x5 sep_conv_3x3 sep_conv_5x5 \n",
      "dil_conv_5x5 none dil_conv_5x5 sep_conv_3x3 dil_conv_5x5 \n",
      "epoch: 4/50 | step: 4/98 | trn loss: 0.9883 | val loss: 1.1317\n",
      "Accuracy of the network on the test images: 59 %\n"
     ]
    },
    {
     "name": "stderr",
     "output_type": "stream",
     "text": [
      "100%|██████████| 98/98 [02:59<00:00,  1.83s/it]\n"
     ]
    },
    {
     "name": "stdout",
     "output_type": "stream",
     "text": [
      "epoch: 4\n",
      "Accuracy of     0 : 55 %\n",
      "Accuracy of     1 : 67 %\n",
      "Accuracy of     2 : 46 %\n",
      "Accuracy of     3 : 53 %\n",
      "Accuracy of     4 : 54 %\n",
      "Accuracy of     5 : 33 %\n",
      "Accuracy of     6 : 55 %\n",
      "Accuracy of     7 : 71 %\n",
      "Accuracy of     8 : 87 %\n",
      "Accuracy of     9 : 90 %\n",
      "arch_param_normal\n",
      "sep_conv_3x3 max_pool_3x3 \n",
      "max_pool_3x3 max_pool_3x3 avg_pool_3x3 \n",
      "max_pool_3x3 max_pool_3x3 max_pool_3x3 max_pool_3x3 \n",
      "sep_conv_5x5 max_pool_3x3 avg_pool_3x3 dil_conv_5x5 avg_pool_3x3 \n",
      "\n",
      "arch_param_reduc\n",
      "max_pool_3x3 none \n",
      "none sep_conv_3x3 sep_conv_5x5 \n",
      "sep_conv_3x3 dil_conv_5x5 sep_conv_3x3 sep_conv_5x5 \n",
      "dil_conv_5x5 none dil_conv_5x5 sep_conv_3x3 dil_conv_5x5 \n",
      "epoch: 5/50 | step: 4/98 | trn loss: 0.9103 | val loss: 1.0824\n",
      "Accuracy of the network on the test images: 61 %\n"
     ]
    },
    {
     "name": "stderr",
     "output_type": "stream",
     "text": [
      "100%|██████████| 98/98 [03:01<00:00,  1.86s/it]\n"
     ]
    },
    {
     "name": "stdout",
     "output_type": "stream",
     "text": [
      "epoch: 5\n",
      "Accuracy of     0 : 70 %\n",
      "Accuracy of     1 : 98 %\n",
      "Accuracy of     2 : 38 %\n",
      "Accuracy of     3 : 19 %\n",
      "Accuracy of     4 : 41 %\n",
      "Accuracy of     5 : 53 %\n",
      "Accuracy of     6 : 48 %\n",
      "Accuracy of     7 : 70 %\n",
      "Accuracy of     8 : 72 %\n",
      "Accuracy of     9 : 59 %\n",
      "arch_param_normal\n",
      "sep_conv_3x3 max_pool_3x3 \n",
      "max_pool_3x3 max_pool_3x3 avg_pool_3x3 \n",
      "max_pool_3x3 max_pool_3x3 max_pool_3x3 max_pool_3x3 \n",
      "sep_conv_5x5 max_pool_3x3 avg_pool_3x3 dil_conv_5x5 avg_pool_3x3 \n",
      "\n",
      "arch_param_reduc\n",
      "max_pool_3x3 none \n",
      "none sep_conv_3x3 sep_conv_5x5 \n",
      "sep_conv_3x3 dil_conv_5x5 sep_conv_3x3 dil_conv_5x5 \n",
      "max_pool_3x3 none dil_conv_5x5 sep_conv_3x3 dil_conv_5x5 \n",
      "epoch: 6/50 | step: 4/98 | trn loss: 0.8437 | val loss: 1.3532\n",
      "Accuracy of the network on the test images: 57 %\n"
     ]
    },
    {
     "name": "stderr",
     "output_type": "stream",
     "text": [
      "100%|██████████| 98/98 [03:01<00:00,  1.85s/it]\n"
     ]
    },
    {
     "name": "stdout",
     "output_type": "stream",
     "text": [
      "epoch: 6\n",
      "Accuracy of     0 : 65 %\n",
      "Accuracy of     1 : 95 %\n",
      "Accuracy of     2 : 40 %\n",
      "Accuracy of     3 : 71 %\n",
      "Accuracy of     4 : 66 %\n",
      "Accuracy of     5 : 33 %\n",
      "Accuracy of     6 : 76 %\n",
      "Accuracy of     7 : 59 %\n",
      "Accuracy of     8 : 80 %\n",
      "Accuracy of     9 : 60 %\n",
      "arch_param_normal\n",
      "sep_conv_3x3 max_pool_3x3 \n",
      "max_pool_3x3 max_pool_3x3 avg_pool_3x3 \n",
      "max_pool_3x3 max_pool_3x3 max_pool_3x3 max_pool_3x3 \n",
      "sep_conv_5x5 max_pool_3x3 avg_pool_3x3 skip_connect avg_pool_3x3 \n",
      "\n",
      "arch_param_reduc\n",
      "max_pool_3x3 none \n",
      "none sep_conv_3x3 dil_conv_5x5 \n",
      "max_pool_3x3 dil_conv_5x5 sep_conv_3x3 dil_conv_5x5 \n",
      "dil_conv_5x5 none dil_conv_5x5 sep_conv_3x3 dil_conv_5x5 \n",
      "epoch: 7/50 | step: 4/98 | trn loss: 0.7877 | val loss: 0.9846\n",
      "Accuracy of the network on the test images: 64 %\n"
     ]
    },
    {
     "name": "stderr",
     "output_type": "stream",
     "text": [
      "100%|██████████| 98/98 [02:57<00:00,  1.81s/it]\n"
     ]
    },
    {
     "name": "stdout",
     "output_type": "stream",
     "text": [
      "epoch: 7\n",
      "Accuracy of     0 : 65 %\n",
      "Accuracy of     1 : 93 %\n",
      "Accuracy of     2 : 51 %\n",
      "Accuracy of     3 : 69 %\n",
      "Accuracy of     4 : 44 %\n",
      "Accuracy of     5 : 49 %\n",
      "Accuracy of     6 : 65 %\n",
      "Accuracy of     7 : 74 %\n",
      "Accuracy of     8 : 88 %\n",
      "Accuracy of     9 : 66 %\n",
      "arch_param_normal\n",
      "sep_conv_3x3 max_pool_3x3 \n",
      "max_pool_3x3 max_pool_3x3 avg_pool_3x3 \n",
      "max_pool_3x3 max_pool_3x3 max_pool_3x3 max_pool_3x3 \n",
      "sep_conv_5x5 max_pool_3x3 avg_pool_3x3 skip_connect avg_pool_3x3 \n",
      "\n",
      "arch_param_reduc\n",
      "max_pool_3x3 none \n",
      "none sep_conv_3x3 dil_conv_5x5 \n",
      "max_pool_3x3 dil_conv_5x5 sep_conv_3x3 dil_conv_5x5 \n",
      "dil_conv_5x5 none dil_conv_5x5 sep_conv_3x3 sep_conv_5x5 \n",
      "epoch: 8/50 | step: 4/98 | trn loss: 0.7506 | val loss: 0.9487\n",
      "Accuracy of the network on the test images: 66 %\n"
     ]
    },
    {
     "name": "stderr",
     "output_type": "stream",
     "text": [
      "100%|██████████| 98/98 [03:06<00:00,  1.90s/it]\n"
     ]
    },
    {
     "name": "stdout",
     "output_type": "stream",
     "text": [
      "epoch: 8\n",
      "Accuracy of     0 : 67 %\n",
      "Accuracy of     1 : 90 %\n",
      "Accuracy of     2 : 61 %\n",
      "Accuracy of     3 : 36 %\n",
      "Accuracy of     4 : 50 %\n",
      "Accuracy of     5 : 77 %\n",
      "Accuracy of     6 : 54 %\n",
      "Accuracy of     7 : 73 %\n",
      "Accuracy of     8 : 80 %\n",
      "Accuracy of     9 : 89 %\n",
      "arch_param_normal\n",
      "sep_conv_3x3 max_pool_3x3 \n",
      "avg_pool_3x3 max_pool_3x3 avg_pool_3x3 \n",
      "max_pool_3x3 max_pool_3x3 max_pool_3x3 max_pool_3x3 \n",
      "sep_conv_5x5 max_pool_3x3 avg_pool_3x3 skip_connect avg_pool_3x3 \n",
      "\n",
      "arch_param_reduc\n",
      "max_pool_3x3 none \n",
      "none sep_conv_3x3 dil_conv_5x5 \n",
      "max_pool_3x3 none sep_conv_3x3 sep_conv_5x5 \n",
      "max_pool_3x3 none dil_conv_5x5 sep_conv_3x3 sep_conv_5x5 \n",
      "epoch: 9/50 | step: 4/98 | trn loss: 0.7008 | val loss: 0.9494\n",
      "Accuracy of the network on the test images: 68 %\n"
     ]
    },
    {
     "name": "stderr",
     "output_type": "stream",
     "text": [
      "100%|██████████| 98/98 [03:06<00:00,  1.90s/it]\n"
     ]
    },
    {
     "name": "stdout",
     "output_type": "stream",
     "text": [
      "epoch: 9\n",
      "Accuracy of     0 : 73 %\n",
      "Accuracy of     1 : 86 %\n",
      "Accuracy of     2 : 65 %\n",
      "Accuracy of     3 : 58 %\n",
      "Accuracy of     4 : 57 %\n",
      "Accuracy of     5 : 62 %\n",
      "Accuracy of     6 : 67 %\n",
      "Accuracy of     7 : 82 %\n",
      "Accuracy of     8 : 89 %\n",
      "Accuracy of     9 : 80 %\n",
      "arch_param_normal\n",
      "sep_conv_3x3 max_pool_3x3 \n",
      "avg_pool_3x3 max_pool_3x3 avg_pool_3x3 \n",
      "max_pool_3x3 max_pool_3x3 max_pool_3x3 max_pool_3x3 \n",
      "sep_conv_5x5 max_pool_3x3 avg_pool_3x3 skip_connect avg_pool_3x3 \n",
      "\n",
      "arch_param_reduc\n",
      "max_pool_3x3 none \n",
      "none sep_conv_3x3 dil_conv_5x5 \n",
      "max_pool_3x3 none sep_conv_3x3 sep_conv_5x5 \n",
      "max_pool_3x3 none sep_conv_3x3 sep_conv_3x3 dil_conv_5x5 \n",
      "epoch: 10/50 | step: 4/98 | trn loss: 0.6630 | val loss: 0.7950\n",
      "Accuracy of the network on the test images: 72 %\n"
     ]
    },
    {
     "name": "stderr",
     "output_type": "stream",
     "text": [
      "100%|██████████| 98/98 [03:02<00:00,  1.86s/it]\n"
     ]
    },
    {
     "name": "stdout",
     "output_type": "stream",
     "text": [
      "epoch: 10\n",
      "Accuracy of     0 : 88 %\n",
      "Accuracy of     1 : 89 %\n",
      "Accuracy of     2 : 69 %\n",
      "Accuracy of     3 : 36 %\n",
      "Accuracy of     4 : 58 %\n",
      "Accuracy of     5 : 42 %\n",
      "Accuracy of     6 : 79 %\n",
      "Accuracy of     7 : 80 %\n",
      "Accuracy of     8 : 73 %\n",
      "Accuracy of     9 : 70 %\n",
      "arch_param_normal\n",
      "sep_conv_3x3 max_pool_3x3 \n",
      "sep_conv_5x5 max_pool_3x3 avg_pool_3x3 \n",
      "max_pool_3x3 max_pool_3x3 max_pool_3x3 max_pool_3x3 \n",
      "sep_conv_5x5 max_pool_3x3 avg_pool_3x3 skip_connect avg_pool_3x3 \n",
      "\n",
      "arch_param_reduc\n",
      "max_pool_3x3 none \n",
      "none sep_conv_3x3 dil_conv_5x5 \n",
      "max_pool_3x3 none sep_conv_3x3 dil_conv_5x5 \n",
      "dil_conv_5x5 none sep_conv_3x3 sep_conv_5x5 dil_conv_5x5 \n",
      "epoch: 11/50 | step: 4/98 | trn loss: 0.6240 | val loss: 0.9100\n",
      "Accuracy of the network on the test images: 68 %\n"
     ]
    },
    {
     "name": "stderr",
     "output_type": "stream",
     "text": [
      "100%|██████████| 98/98 [03:00<00:00,  1.84s/it]\n"
     ]
    },
    {
     "name": "stdout",
     "output_type": "stream",
     "text": [
      "epoch: 11\n",
      "Accuracy of     0 : 75 %\n",
      "Accuracy of     1 : 83 %\n",
      "Accuracy of     2 : 66 %\n",
      "Accuracy of     3 : 67 %\n",
      "Accuracy of     4 : 74 %\n",
      "Accuracy of     5 : 45 %\n",
      "Accuracy of     6 : 76 %\n",
      "Accuracy of     7 : 70 %\n",
      "Accuracy of     8 : 91 %\n",
      "Accuracy of     9 : 82 %\n",
      "arch_param_normal\n",
      "sep_conv_3x3 max_pool_3x3 \n",
      "sep_conv_5x5 max_pool_3x3 avg_pool_3x3 \n",
      "max_pool_3x3 max_pool_3x3 max_pool_3x3 max_pool_3x3 \n",
      "sep_conv_5x5 max_pool_3x3 avg_pool_3x3 skip_connect avg_pool_3x3 \n",
      "\n",
      "arch_param_reduc\n",
      "max_pool_3x3 none \n",
      "none sep_conv_3x3 dil_conv_5x5 \n",
      "max_pool_3x3 none sep_conv_3x3 dil_conv_5x5 \n",
      "dil_conv_5x5 none sep_conv_3x3 sep_conv_3x3 sep_conv_5x5 \n",
      "epoch: 12/50 | step: 4/98 | trn loss: 0.5967 | val loss: 0.7608\n",
      "Accuracy of the network on the test images: 73 %\n"
     ]
    },
    {
     "name": "stderr",
     "output_type": "stream",
     "text": [
      "100%|██████████| 98/98 [03:03<00:00,  1.87s/it]\n"
     ]
    },
    {
     "name": "stdout",
     "output_type": "stream",
     "text": [
      "epoch: 12\n",
      "Accuracy of     0 : 70 %\n",
      "Accuracy of     1 : 91 %\n",
      "Accuracy of     2 : 77 %\n",
      "Accuracy of     3 : 51 %\n",
      "Accuracy of     4 : 43 %\n",
      "Accuracy of     5 : 47 %\n",
      "Accuracy of     6 : 89 %\n",
      "Accuracy of     7 : 86 %\n",
      "Accuracy of     8 : 81 %\n",
      "Accuracy of     9 : 76 %\n",
      "arch_param_normal\n",
      "sep_conv_3x3 max_pool_3x3 \n",
      "dil_conv_3x3 max_pool_3x3 sep_conv_5x5 \n",
      "max_pool_3x3 max_pool_3x3 max_pool_3x3 max_pool_3x3 \n",
      "sep_conv_5x5 max_pool_3x3 avg_pool_3x3 skip_connect avg_pool_3x3 \n",
      "\n",
      "arch_param_reduc\n",
      "max_pool_3x3 none \n",
      "none sep_conv_3x3 dil_conv_5x5 \n",
      "max_pool_3x3 none sep_conv_3x3 dil_conv_5x5 \n",
      "max_pool_3x3 none dil_conv_5x5 sep_conv_3x3 sep_conv_5x5 \n",
      "epoch: 13/50 | step: 4/98 | trn loss: 0.5603 | val loss: 0.8386\n",
      "Accuracy of the network on the test images: 71 %\n"
     ]
    },
    {
     "name": "stderr",
     "output_type": "stream",
     "text": [
      "100%|██████████| 98/98 [03:02<00:00,  1.86s/it]\n"
     ]
    },
    {
     "name": "stdout",
     "output_type": "stream",
     "text": [
      "epoch: 13\n",
      "Accuracy of     0 : 81 %\n",
      "Accuracy of     1 : 78 %\n",
      "Accuracy of     2 : 53 %\n",
      "Accuracy of     3 : 62 %\n",
      "Accuracy of     4 : 49 %\n",
      "Accuracy of     5 : 50 %\n",
      "Accuracy of     6 : 83 %\n",
      "Accuracy of     7 : 84 %\n",
      "Accuracy of     8 : 93 %\n",
      "Accuracy of     9 : 87 %\n",
      "arch_param_normal\n",
      "sep_conv_3x3 max_pool_3x3 \n",
      "dil_conv_3x3 max_pool_3x3 sep_conv_5x5 \n",
      "max_pool_3x3 max_pool_3x3 max_pool_3x3 max_pool_3x3 \n",
      "sep_conv_5x5 max_pool_3x3 avg_pool_3x3 skip_connect avg_pool_3x3 \n",
      "\n",
      "arch_param_reduc\n",
      "sep_conv_5x5 none \n",
      "none sep_conv_3x3 dil_conv_5x5 \n",
      "max_pool_3x3 none sep_conv_3x3 dil_conv_5x5 \n",
      "max_pool_3x3 none sep_conv_3x3 sep_conv_3x3 sep_conv_5x5 \n",
      "epoch: 14/50 | step: 4/98 | trn loss: 0.5296 | val loss: 0.8282\n",
      "Accuracy of the network on the test images: 72 %\n"
     ]
    },
    {
     "name": "stderr",
     "output_type": "stream",
     "text": [
      "100%|██████████| 98/98 [02:49<00:00,  1.73s/it]\n"
     ]
    },
    {
     "name": "stdout",
     "output_type": "stream",
     "text": [
      "epoch: 14\n",
      "Accuracy of     0 : 79 %\n",
      "Accuracy of     1 : 78 %\n",
      "Accuracy of     2 : 58 %\n",
      "Accuracy of     3 : 72 %\n",
      "Accuracy of     4 : 87 %\n",
      "Accuracy of     5 : 50 %\n",
      "Accuracy of     6 : 71 %\n",
      "Accuracy of     7 : 62 %\n",
      "Accuracy of     8 : 80 %\n",
      "Accuracy of     9 : 69 %\n",
      "arch_param_normal\n",
      "sep_conv_3x3 max_pool_3x3 \n",
      "dil_conv_3x3 max_pool_3x3 sep_conv_5x5 \n",
      "sep_conv_5x5 max_pool_3x3 max_pool_3x3 max_pool_3x3 \n",
      "sep_conv_5x5 max_pool_3x3 avg_pool_3x3 skip_connect avg_pool_3x3 \n",
      "\n",
      "arch_param_reduc\n",
      "sep_conv_5x5 none \n",
      "none sep_conv_3x3 sep_conv_5x5 \n",
      "sep_conv_3x3 none sep_conv_3x3 dil_conv_5x5 \n",
      "sep_conv_5x5 none sep_conv_3x3 sep_conv_3x3 sep_conv_5x5 \n",
      "epoch: 15/50 | step: 4/98 | trn loss: 0.4983 | val loss: 0.8640\n",
      "Accuracy of the network on the test images: 70 %\n"
     ]
    },
    {
     "name": "stderr",
     "output_type": "stream",
     "text": [
      "100%|██████████| 98/98 [03:04<00:00,  1.88s/it]\n"
     ]
    },
    {
     "name": "stdout",
     "output_type": "stream",
     "text": [
      "epoch: 15\n",
      "Accuracy of     0 : 89 %\n",
      "Accuracy of     1 : 85 %\n",
      "Accuracy of     2 : 49 %\n",
      "Accuracy of     3 : 40 %\n",
      "Accuracy of     4 : 89 %\n",
      "Accuracy of     5 : 58 %\n",
      "Accuracy of     6 : 77 %\n",
      "Accuracy of     7 : 72 %\n",
      "Accuracy of     8 : 83 %\n",
      "Accuracy of     9 : 79 %\n",
      "arch_param_normal\n",
      "sep_conv_3x3 max_pool_3x3 \n",
      "dil_conv_3x3 max_pool_3x3 sep_conv_5x5 \n",
      "sep_conv_5x5 max_pool_3x3 max_pool_3x3 max_pool_3x3 \n",
      "sep_conv_5x5 max_pool_3x3 avg_pool_3x3 skip_connect avg_pool_3x3 \n",
      "\n",
      "arch_param_reduc\n",
      "sep_conv_5x5 none \n",
      "sep_conv_5x5 sep_conv_3x3 sep_conv_5x5 \n",
      "max_pool_3x3 none sep_conv_3x3 dil_conv_5x5 \n",
      "sep_conv_5x5 none sep_conv_3x3 sep_conv_3x3 sep_conv_5x5 \n",
      "epoch: 16/50 | step: 4/98 | trn loss: 0.4736 | val loss: 0.8382\n",
      "Accuracy of the network on the test images: 72 %\n"
     ]
    },
    {
     "name": "stderr",
     "output_type": "stream",
     "text": [
      "100%|██████████| 98/98 [03:00<00:00,  1.84s/it]\n"
     ]
    },
    {
     "name": "stdout",
     "output_type": "stream",
     "text": [
      "epoch: 16\n",
      "Accuracy of     0 : 83 %\n",
      "Accuracy of     1 : 71 %\n",
      "Accuracy of     2 : 87 %\n",
      "Accuracy of     3 : 49 %\n",
      "Accuracy of     4 : 53 %\n",
      "Accuracy of     5 : 63 %\n",
      "Accuracy of     6 : 64 %\n",
      "Accuracy of     7 : 74 %\n",
      "Accuracy of     8 : 70 %\n",
      "Accuracy of     9 : 83 %\n",
      "arch_param_normal\n",
      "sep_conv_3x3 sep_conv_5x5 \n",
      "sep_conv_5x5 max_pool_3x3 sep_conv_5x5 \n",
      "sep_conv_5x5 max_pool_3x3 max_pool_3x3 sep_conv_5x5 \n",
      "sep_conv_5x5 max_pool_3x3 avg_pool_3x3 skip_connect avg_pool_3x3 \n",
      "\n",
      "arch_param_reduc\n",
      "sep_conv_5x5 none \n",
      "none sep_conv_3x3 sep_conv_5x5 \n",
      "none none sep_conv_3x3 dil_conv_5x5 \n",
      "sep_conv_5x5 none sep_conv_3x3 sep_conv_3x3 sep_conv_5x5 \n",
      "epoch: 17/50 | step: 4/98 | trn loss: 0.4516 | val loss: 0.9286\n",
      "Accuracy of the network on the test images: 70 %\n"
     ]
    },
    {
     "name": "stderr",
     "output_type": "stream",
     "text": [
      "100%|██████████| 98/98 [02:57<00:00,  1.81s/it]\n"
     ]
    },
    {
     "name": "stdout",
     "output_type": "stream",
     "text": [
      "epoch: 17\n",
      "Accuracy of     0 : 82 %\n",
      "Accuracy of     1 : 91 %\n",
      "Accuracy of     2 : 64 %\n",
      "Accuracy of     3 : 42 %\n",
      "Accuracy of     4 : 63 %\n",
      "Accuracy of     5 : 68 %\n",
      "Accuracy of     6 : 72 %\n",
      "Accuracy of     7 : 78 %\n",
      "Accuracy of     8 : 93 %\n",
      "Accuracy of     9 : 70 %\n",
      "arch_param_normal\n",
      "sep_conv_3x3 sep_conv_5x5 \n",
      "sep_conv_5x5 max_pool_3x3 sep_conv_5x5 \n",
      "sep_conv_5x5 max_pool_3x3 max_pool_3x3 sep_conv_5x5 \n",
      "sep_conv_5x5 max_pool_3x3 avg_pool_3x3 skip_connect avg_pool_3x3 \n",
      "\n",
      "arch_param_reduc\n",
      "sep_conv_5x5 none \n",
      "sep_conv_5x5 sep_conv_3x3 sep_conv_5x5 \n",
      "none none sep_conv_3x3 dil_conv_5x5 \n",
      "sep_conv_5x5 none sep_conv_3x3 sep_conv_3x3 sep_conv_5x5 \n",
      "epoch: 18/50 | step: 4/98 | trn loss: 0.4291 | val loss: 0.8568\n",
      "Accuracy of the network on the test images: 72 %\n"
     ]
    },
    {
     "name": "stderr",
     "output_type": "stream",
     "text": [
      "100%|██████████| 98/98 [02:57<00:00,  1.81s/it]\n"
     ]
    },
    {
     "name": "stdout",
     "output_type": "stream",
     "text": [
      "epoch: 18\n",
      "Accuracy of     0 : 74 %\n",
      "Accuracy of     1 : 85 %\n",
      "Accuracy of     2 : 69 %\n",
      "Accuracy of     3 : 46 %\n",
      "Accuracy of     4 : 72 %\n",
      "Accuracy of     5 : 82 %\n",
      "Accuracy of     6 : 78 %\n",
      "Accuracy of     7 : 70 %\n",
      "Accuracy of     8 : 84 %\n",
      "Accuracy of     9 : 85 %\n",
      "arch_param_normal\n",
      "sep_conv_3x3 sep_conv_5x5 \n",
      "sep_conv_5x5 max_pool_3x3 sep_conv_5x5 \n",
      "sep_conv_5x5 max_pool_3x3 max_pool_3x3 sep_conv_5x5 \n",
      "sep_conv_5x5 max_pool_3x3 avg_pool_3x3 max_pool_3x3 avg_pool_3x3 \n",
      "\n",
      "arch_param_reduc\n",
      "sep_conv_5x5 none \n",
      "sep_conv_5x5 sep_conv_3x3 sep_conv_5x5 \n",
      "none none sep_conv_3x3 dil_conv_5x5 \n",
      "sep_conv_5x5 none sep_conv_3x3 sep_conv_3x3 sep_conv_5x5 \n",
      "epoch: 19/50 | step: 4/98 | trn loss: 0.3959 | val loss: 0.7923\n",
      "Accuracy of the network on the test images: 75 %\n"
     ]
    },
    {
     "name": "stderr",
     "output_type": "stream",
     "text": [
      "100%|██████████| 98/98 [03:04<00:00,  1.88s/it]\n"
     ]
    },
    {
     "name": "stdout",
     "output_type": "stream",
     "text": [
      "epoch: 19\n",
      "Accuracy of     0 : 86 %\n",
      "Accuracy of     1 : 76 %\n",
      "Accuracy of     2 : 49 %\n",
      "Accuracy of     3 : 71 %\n",
      "Accuracy of     4 : 58 %\n",
      "Accuracy of     5 : 69 %\n",
      "Accuracy of     6 : 70 %\n",
      "Accuracy of     7 : 72 %\n",
      "Accuracy of     8 : 88 %\n",
      "Accuracy of     9 : 89 %\n",
      "arch_param_normal\n",
      "sep_conv_3x3 sep_conv_5x5 \n",
      "sep_conv_5x5 max_pool_3x3 sep_conv_5x5 \n",
      "sep_conv_5x5 sep_conv_5x5 max_pool_3x3 sep_conv_5x5 \n",
      "sep_conv_5x5 max_pool_3x3 avg_pool_3x3 max_pool_3x3 avg_pool_3x3 \n",
      "\n",
      "arch_param_reduc\n",
      "sep_conv_5x5 sep_conv_5x5 \n",
      "sep_conv_5x5 sep_conv_3x3 sep_conv_5x5 \n",
      "none none sep_conv_3x3 dil_conv_5x5 \n",
      "sep_conv_5x5 none sep_conv_3x3 sep_conv_3x3 sep_conv_5x5 \n",
      "epoch: 20/50 | step: 4/98 | trn loss: 0.3787 | val loss: 0.8650\n",
      "Accuracy of the network on the test images: 73 %\n"
     ]
    },
    {
     "name": "stderr",
     "output_type": "stream",
     "text": [
      "100%|██████████| 98/98 [03:06<00:00,  1.90s/it]\n"
     ]
    },
    {
     "name": "stdout",
     "output_type": "stream",
     "text": [
      "epoch: 20\n",
      "Accuracy of     0 : 82 %\n",
      "Accuracy of     1 : 89 %\n",
      "Accuracy of     2 : 68 %\n",
      "Accuracy of     3 : 52 %\n",
      "Accuracy of     4 : 57 %\n",
      "Accuracy of     5 : 50 %\n",
      "Accuracy of     6 : 77 %\n",
      "Accuracy of     7 : 78 %\n",
      "Accuracy of     8 : 88 %\n",
      "Accuracy of     9 : 88 %\n",
      "arch_param_normal\n",
      "sep_conv_3x3 sep_conv_5x5 \n",
      "sep_conv_5x5 sep_conv_5x5 sep_conv_5x5 \n",
      "sep_conv_5x5 sep_conv_5x5 max_pool_3x3 sep_conv_5x5 \n",
      "sep_conv_5x5 max_pool_3x3 avg_pool_3x3 max_pool_3x3 avg_pool_3x3 \n",
      "\n",
      "arch_param_reduc\n",
      "sep_conv_5x5 sep_conv_5x5 \n",
      "sep_conv_5x5 sep_conv_3x3 dil_conv_5x5 \n",
      "sep_conv_3x3 none sep_conv_3x3 dil_conv_5x5 \n",
      "sep_conv_5x5 none sep_conv_3x3 sep_conv_3x3 sep_conv_5x5 \n",
      "epoch: 21/50 | step: 4/98 | trn loss: 0.3472 | val loss: 0.8890\n",
      "Accuracy of the network on the test images: 73 %\n"
     ]
    },
    {
     "name": "stderr",
     "output_type": "stream",
     "text": [
      "100%|██████████| 98/98 [03:01<00:00,  1.85s/it]\n"
     ]
    },
    {
     "name": "stdout",
     "output_type": "stream",
     "text": [
      "epoch: 21\n",
      "Accuracy of     0 : 71 %\n",
      "Accuracy of     1 : 84 %\n",
      "Accuracy of     2 : 66 %\n",
      "Accuracy of     3 : 42 %\n",
      "Accuracy of     4 : 71 %\n",
      "Accuracy of     5 : 76 %\n",
      "Accuracy of     6 : 79 %\n",
      "Accuracy of     7 : 88 %\n",
      "Accuracy of     8 : 82 %\n",
      "Accuracy of     9 : 87 %\n",
      "arch_param_normal\n",
      "sep_conv_3x3 sep_conv_5x5 \n",
      "sep_conv_5x5 sep_conv_5x5 sep_conv_5x5 \n",
      "sep_conv_5x5 sep_conv_5x5 max_pool_3x3 sep_conv_5x5 \n",
      "sep_conv_5x5 max_pool_3x3 avg_pool_3x3 max_pool_3x3 avg_pool_3x3 \n",
      "\n",
      "arch_param_reduc\n",
      "sep_conv_5x5 sep_conv_5x5 \n",
      "sep_conv_5x5 sep_conv_3x3 dil_conv_5x5 \n",
      "sep_conv_3x3 none sep_conv_3x3 dil_conv_5x5 \n",
      "sep_conv_5x5 none sep_conv_3x3 sep_conv_3x3 sep_conv_5x5 \n",
      "epoch: 22/50 | step: 4/98 | trn loss: 0.3265 | val loss: 0.8144\n",
      "Accuracy of the network on the test images: 75 %\n"
     ]
    },
    {
     "name": "stderr",
     "output_type": "stream",
     "text": [
      "100%|██████████| 98/98 [03:04<00:00,  1.88s/it]\n"
     ]
    },
    {
     "name": "stdout",
     "output_type": "stream",
     "text": [
      "epoch: 22\n",
      "Accuracy of     0 : 57 %\n",
      "Accuracy of     1 : 70 %\n",
      "Accuracy of     2 : 75 %\n",
      "Accuracy of     3 : 49 %\n",
      "Accuracy of     4 : 81 %\n",
      "Accuracy of     5 : 71 %\n",
      "Accuracy of     6 : 84 %\n",
      "Accuracy of     7 : 71 %\n",
      "Accuracy of     8 : 91 %\n",
      "Accuracy of     9 : 78 %\n",
      "arch_param_normal\n",
      "sep_conv_3x3 sep_conv_5x5 \n",
      "sep_conv_5x5 sep_conv_5x5 sep_conv_5x5 \n",
      "sep_conv_5x5 sep_conv_5x5 max_pool_3x3 sep_conv_5x5 \n",
      "sep_conv_5x5 max_pool_3x3 avg_pool_3x3 max_pool_3x3 avg_pool_3x3 \n",
      "\n",
      "arch_param_reduc\n",
      "sep_conv_5x5 sep_conv_5x5 \n",
      "sep_conv_5x5 sep_conv_3x3 dil_conv_5x5 \n",
      "sep_conv_3x3 none sep_conv_3x3 dil_conv_5x5 \n",
      "sep_conv_5x5 none sep_conv_3x3 sep_conv_3x3 sep_conv_5x5 \n",
      "epoch: 23/50 | step: 4/98 | trn loss: 0.3097 | val loss: 0.9190\n",
      "Accuracy of the network on the test images: 73 %\n"
     ]
    },
    {
     "name": "stderr",
     "output_type": "stream",
     "text": [
      "100%|██████████| 98/98 [03:05<00:00,  1.89s/it]\n"
     ]
    },
    {
     "name": "stdout",
     "output_type": "stream",
     "text": [
      "epoch: 23\n",
      "Accuracy of     0 : 65 %\n",
      "Accuracy of     1 : 72 %\n",
      "Accuracy of     2 : 75 %\n",
      "Accuracy of     3 : 51 %\n",
      "Accuracy of     4 : 83 %\n",
      "Accuracy of     5 : 54 %\n",
      "Accuracy of     6 : 69 %\n",
      "Accuracy of     7 : 87 %\n",
      "Accuracy of     8 : 87 %\n",
      "Accuracy of     9 : 88 %\n",
      "arch_param_normal\n",
      "sep_conv_3x3 sep_conv_5x5 \n",
      "sep_conv_5x5 sep_conv_5x5 sep_conv_5x5 \n",
      "sep_conv_5x5 sep_conv_5x5 max_pool_3x3 sep_conv_5x5 \n",
      "sep_conv_5x5 max_pool_3x3 max_pool_3x3 max_pool_3x3 avg_pool_3x3 \n",
      "\n",
      "arch_param_reduc\n",
      "sep_conv_5x5 sep_conv_5x5 \n",
      "sep_conv_5x5 sep_conv_3x3 dil_conv_5x5 \n",
      "none none sep_conv_3x3 dil_conv_5x5 \n",
      "sep_conv_5x5 none sep_conv_3x3 sep_conv_3x3 sep_conv_5x5 \n",
      "epoch: 24/50 | step: 4/98 | trn loss: 0.2923 | val loss: 0.8913\n",
      "Accuracy of the network on the test images: 73 %\n"
     ]
    },
    {
     "name": "stderr",
     "output_type": "stream",
     "text": [
      "100%|██████████| 98/98 [03:01<00:00,  1.85s/it]\n"
     ]
    },
    {
     "name": "stdout",
     "output_type": "stream",
     "text": [
      "epoch: 24\n",
      "Accuracy of     0 : 76 %\n",
      "Accuracy of     1 : 86 %\n",
      "Accuracy of     2 : 85 %\n",
      "Accuracy of     3 : 62 %\n",
      "Accuracy of     4 : 53 %\n",
      "Accuracy of     5 : 56 %\n",
      "Accuracy of     6 : 76 %\n",
      "Accuracy of     7 : 67 %\n",
      "Accuracy of     8 : 82 %\n",
      "Accuracy of     9 : 85 %\n",
      "arch_param_normal\n",
      "sep_conv_3x3 sep_conv_5x5 \n",
      "sep_conv_5x5 sep_conv_5x5 sep_conv_5x5 \n",
      "sep_conv_5x5 sep_conv_5x5 max_pool_3x3 sep_conv_5x5 \n",
      "sep_conv_5x5 max_pool_3x3 max_pool_3x3 sep_conv_5x5 avg_pool_3x3 \n",
      "\n",
      "arch_param_reduc\n",
      "sep_conv_5x5 sep_conv_5x5 \n",
      "sep_conv_5x5 sep_conv_3x3 dil_conv_5x5 \n",
      "sep_conv_3x3 none sep_conv_3x3 dil_conv_5x5 \n",
      "sep_conv_5x5 none sep_conv_3x3 sep_conv_3x3 sep_conv_5x5 \n",
      "epoch: 25/50 | step: 4/98 | trn loss: 0.2649 | val loss: 0.9391\n",
      "Accuracy of the network on the test images: 73 %\n"
     ]
    },
    {
     "name": "stderr",
     "output_type": "stream",
     "text": [
      "100%|██████████| 98/98 [02:59<00:00,  1.83s/it]\n"
     ]
    },
    {
     "name": "stdout",
     "output_type": "stream",
     "text": [
      "epoch: 25\n",
      "Accuracy of     0 : 76 %\n",
      "Accuracy of     1 : 89 %\n",
      "Accuracy of     2 : 70 %\n",
      "Accuracy of     3 : 49 %\n",
      "Accuracy of     4 : 59 %\n",
      "Accuracy of     5 : 86 %\n",
      "Accuracy of     6 : 72 %\n",
      "Accuracy of     7 : 64 %\n",
      "Accuracy of     8 : 75 %\n",
      "Accuracy of     9 : 81 %\n",
      "arch_param_normal\n",
      "sep_conv_3x3 sep_conv_5x5 \n",
      "sep_conv_5x5 sep_conv_5x5 sep_conv_5x5 \n",
      "sep_conv_5x5 sep_conv_5x5 max_pool_3x3 sep_conv_5x5 \n",
      "sep_conv_5x5 max_pool_3x3 max_pool_3x3 sep_conv_5x5 avg_pool_3x3 \n",
      "\n",
      "arch_param_reduc\n",
      "sep_conv_5x5 sep_conv_5x5 \n",
      "sep_conv_5x5 sep_conv_3x3 dil_conv_5x5 \n",
      "sep_conv_3x3 none sep_conv_3x3 dil_conv_5x5 \n",
      "sep_conv_5x5 none sep_conv_3x3 sep_conv_3x3 sep_conv_5x5 \n",
      "epoch: 26/50 | step: 4/98 | trn loss: 0.2412 | val loss: 0.9785\n",
      "Accuracy of the network on the test images: 72 %\n"
     ]
    },
    {
     "name": "stderr",
     "output_type": "stream",
     "text": [
      "100%|██████████| 98/98 [03:05<00:00,  1.89s/it]\n"
     ]
    },
    {
     "name": "stdout",
     "output_type": "stream",
     "text": [
      "epoch: 26\n",
      "Accuracy of     0 : 74 %\n",
      "Accuracy of     1 : 93 %\n",
      "Accuracy of     2 : 62 %\n",
      "Accuracy of     3 : 64 %\n",
      "Accuracy of     4 : 40 %\n",
      "Accuracy of     5 : 83 %\n",
      "Accuracy of     6 : 76 %\n",
      "Accuracy of     7 : 58 %\n",
      "Accuracy of     8 : 71 %\n",
      "Accuracy of     9 : 77 %\n",
      "arch_param_normal\n",
      "sep_conv_3x3 sep_conv_5x5 \n",
      "sep_conv_5x5 sep_conv_5x5 sep_conv_5x5 \n",
      "sep_conv_5x5 sep_conv_5x5 max_pool_3x3 sep_conv_5x5 \n",
      "sep_conv_5x5 max_pool_3x3 max_pool_3x3 sep_conv_5x5 avg_pool_3x3 \n",
      "\n",
      "arch_param_reduc\n",
      "sep_conv_5x5 none \n",
      "sep_conv_5x5 sep_conv_3x3 dil_conv_5x5 \n",
      "none none sep_conv_3x3 sep_conv_5x5 \n",
      "sep_conv_5x5 none sep_conv_3x3 sep_conv_3x3 sep_conv_5x5 \n",
      "epoch: 27/50 | step: 4/98 | trn loss: 0.2319 | val loss: 1.2254\n",
      "Accuracy of the network on the test images: 70 %\n"
     ]
    },
    {
     "name": "stderr",
     "output_type": "stream",
     "text": [
      "100%|██████████| 98/98 [03:04<00:00,  1.88s/it]\n"
     ]
    },
    {
     "name": "stdout",
     "output_type": "stream",
     "text": [
      "epoch: 27\n",
      "Accuracy of     0 : 79 %\n",
      "Accuracy of     1 : 92 %\n",
      "Accuracy of     2 : 63 %\n",
      "Accuracy of     3 : 49 %\n",
      "Accuracy of     4 : 64 %\n",
      "Accuracy of     5 : 69 %\n",
      "Accuracy of     6 : 80 %\n",
      "Accuracy of     7 : 81 %\n",
      "Accuracy of     8 : 84 %\n",
      "Accuracy of     9 : 90 %\n",
      "arch_param_normal\n",
      "sep_conv_3x3 sep_conv_5x5 \n",
      "sep_conv_5x5 sep_conv_5x5 sep_conv_5x5 \n",
      "sep_conv_5x5 sep_conv_5x5 max_pool_3x3 sep_conv_5x5 \n",
      "sep_conv_5x5 max_pool_3x3 max_pool_3x3 sep_conv_5x5 avg_pool_3x3 \n",
      "\n",
      "arch_param_reduc\n",
      "sep_conv_5x5 none \n",
      "sep_conv_5x5 sep_conv_3x3 dil_conv_5x5 \n",
      "none none sep_conv_3x3 sep_conv_5x5 \n",
      "sep_conv_5x5 none sep_conv_3x3 sep_conv_3x3 sep_conv_5x5 \n",
      "epoch: 28/50 | step: 4/98 | trn loss: 0.2046 | val loss: 0.9261\n",
      "Accuracy of the network on the test images: 75 %\n"
     ]
    },
    {
     "name": "stderr",
     "output_type": "stream",
     "text": [
      "100%|██████████| 98/98 [02:59<00:00,  1.83s/it]\n"
     ]
    },
    {
     "name": "stdout",
     "output_type": "stream",
     "text": [
      "epoch: 28\n",
      "Accuracy of     0 : 90 %\n",
      "Accuracy of     1 : 51 %\n",
      "Accuracy of     2 : 51 %\n",
      "Accuracy of     3 : 23 %\n",
      "Accuracy of     4 : 92 %\n",
      "Accuracy of     5 : 68 %\n",
      "Accuracy of     6 : 67 %\n",
      "Accuracy of     7 : 50 %\n",
      "Accuracy of     8 : 83 %\n",
      "Accuracy of     9 : 92 %\n",
      "arch_param_normal\n",
      "sep_conv_3x3 sep_conv_5x5 \n",
      "sep_conv_5x5 sep_conv_5x5 sep_conv_5x5 \n",
      "sep_conv_5x5 sep_conv_5x5 max_pool_3x3 sep_conv_5x5 \n",
      "sep_conv_5x5 max_pool_3x3 max_pool_3x3 sep_conv_5x5 max_pool_3x3 \n",
      "\n",
      "arch_param_reduc\n",
      "sep_conv_5x5 none \n",
      "sep_conv_5x5 sep_conv_3x3 dil_conv_5x5 \n",
      "none none sep_conv_3x3 sep_conv_5x5 \n",
      "sep_conv_5x5 none sep_conv_3x3 sep_conv_3x3 sep_conv_5x5 \n",
      "epoch: 29/50 | step: 4/98 | trn loss: 0.1963 | val loss: 1.4638\n",
      "Accuracy of the network on the test images: 67 %\n"
     ]
    },
    {
     "name": "stderr",
     "output_type": "stream",
     "text": [
      "100%|██████████| 98/98 [03:03<00:00,  1.87s/it]\n"
     ]
    },
    {
     "name": "stdout",
     "output_type": "stream",
     "text": [
      "epoch: 29\n",
      "Accuracy of     0 : 83 %\n",
      "Accuracy of     1 : 94 %\n",
      "Accuracy of     2 : 66 %\n",
      "Accuracy of     3 : 57 %\n",
      "Accuracy of     4 : 58 %\n",
      "Accuracy of     5 : 78 %\n",
      "Accuracy of     6 : 52 %\n",
      "Accuracy of     7 : 78 %\n",
      "Accuracy of     8 : 85 %\n",
      "Accuracy of     9 : 81 %\n",
      "arch_param_normal\n",
      "sep_conv_3x3 sep_conv_5x5 \n",
      "sep_conv_5x5 sep_conv_5x5 sep_conv_5x5 \n",
      "sep_conv_5x5 sep_conv_5x5 max_pool_3x3 sep_conv_5x5 \n",
      "sep_conv_5x5 max_pool_3x3 max_pool_3x3 sep_conv_5x5 max_pool_3x3 \n",
      "\n",
      "arch_param_reduc\n",
      "sep_conv_5x5 none \n",
      "sep_conv_5x5 sep_conv_3x3 dil_conv_5x5 \n",
      "none none sep_conv_3x3 sep_conv_5x5 \n",
      "sep_conv_5x5 sep_conv_5x5 sep_conv_3x3 sep_conv_3x3 sep_conv_5x5 \n",
      "epoch: 30/50 | step: 4/98 | trn loss: 0.1713 | val loss: 1.0947\n",
      "Accuracy of the network on the test images: 73 %\n"
     ]
    },
    {
     "name": "stderr",
     "output_type": "stream",
     "text": [
      "100%|██████████| 98/98 [03:02<00:00,  1.86s/it]\n"
     ]
    },
    {
     "name": "stdout",
     "output_type": "stream",
     "text": [
      "epoch: 30\n",
      "Accuracy of     0 : 79 %\n",
      "Accuracy of     1 : 71 %\n",
      "Accuracy of     2 : 62 %\n",
      "Accuracy of     3 : 65 %\n",
      "Accuracy of     4 : 81 %\n",
      "Accuracy of     5 : 45 %\n",
      "Accuracy of     6 : 85 %\n",
      "Accuracy of     7 : 69 %\n",
      "Accuracy of     8 : 91 %\n",
      "Accuracy of     9 : 91 %\n",
      "arch_param_normal\n",
      "sep_conv_3x3 sep_conv_5x5 \n",
      "sep_conv_5x5 sep_conv_5x5 sep_conv_5x5 \n",
      "sep_conv_5x5 sep_conv_5x5 max_pool_3x3 sep_conv_5x5 \n",
      "sep_conv_5x5 max_pool_3x3 max_pool_3x3 sep_conv_5x5 max_pool_3x3 \n",
      "\n",
      "arch_param_reduc\n",
      "sep_conv_5x5 sep_conv_5x5 \n",
      "sep_conv_5x5 sep_conv_3x3 dil_conv_5x5 \n",
      "none none sep_conv_3x3 sep_conv_5x5 \n",
      "sep_conv_5x5 sep_conv_5x5 sep_conv_3x3 sep_conv_3x3 sep_conv_5x5 \n",
      "epoch: 31/50 | step: 4/98 | trn loss: 0.1541 | val loss: 1.0354\n",
      "Accuracy of the network on the test images: 74 %\n"
     ]
    },
    {
     "name": "stderr",
     "output_type": "stream",
     "text": [
      "100%|██████████| 98/98 [03:07<00:00,  1.92s/it]\n"
     ]
    },
    {
     "name": "stdout",
     "output_type": "stream",
     "text": [
      "epoch: 31\n",
      "Accuracy of     0 : 81 %\n",
      "Accuracy of     1 : 92 %\n",
      "Accuracy of     2 : 54 %\n",
      "Accuracy of     3 : 50 %\n",
      "Accuracy of     4 : 77 %\n",
      "Accuracy of     5 : 61 %\n",
      "Accuracy of     6 : 80 %\n",
      "Accuracy of     7 : 83 %\n",
      "Accuracy of     8 : 73 %\n",
      "Accuracy of     9 : 89 %\n",
      "arch_param_normal\n",
      "sep_conv_3x3 sep_conv_5x5 \n",
      "sep_conv_5x5 sep_conv_5x5 sep_conv_5x5 \n",
      "sep_conv_5x5 sep_conv_5x5 max_pool_3x3 sep_conv_5x5 \n",
      "sep_conv_5x5 max_pool_3x3 max_pool_3x3 sep_conv_5x5 max_pool_3x3 \n",
      "\n",
      "arch_param_reduc\n",
      "sep_conv_5x5 sep_conv_5x5 \n",
      "sep_conv_5x5 sep_conv_3x3 dil_conv_5x5 \n",
      "sep_conv_3x3 none sep_conv_3x3 sep_conv_5x5 \n",
      "none sep_conv_5x5 sep_conv_3x3 sep_conv_5x5 sep_conv_5x5 \n",
      "epoch: 32/50 | step: 4/98 | trn loss: 0.1379 | val loss: 1.1104\n",
      "Accuracy of the network on the test images: 74 %\n"
     ]
    },
    {
     "name": "stderr",
     "output_type": "stream",
     "text": [
      "100%|██████████| 98/98 [02:51<00:00,  1.75s/it]\n"
     ]
    },
    {
     "name": "stdout",
     "output_type": "stream",
     "text": [
      "epoch: 32\n",
      "Accuracy of     0 : 82 %\n",
      "Accuracy of     1 : 82 %\n",
      "Accuracy of     2 : 62 %\n",
      "Accuracy of     3 : 56 %\n",
      "Accuracy of     4 : 76 %\n",
      "Accuracy of     5 : 69 %\n",
      "Accuracy of     6 : 81 %\n",
      "Accuracy of     7 : 69 %\n",
      "Accuracy of     8 : 91 %\n",
      "Accuracy of     9 : 88 %\n",
      "arch_param_normal\n",
      "sep_conv_3x3 sep_conv_5x5 \n",
      "sep_conv_5x5 sep_conv_5x5 sep_conv_5x5 \n",
      "sep_conv_5x5 sep_conv_5x5 sep_conv_5x5 sep_conv_5x5 \n",
      "sep_conv_5x5 max_pool_3x3 max_pool_3x3 sep_conv_5x5 max_pool_3x3 \n",
      "\n",
      "arch_param_reduc\n",
      "sep_conv_5x5 sep_conv_5x5 \n",
      "sep_conv_5x5 sep_conv_3x3 dil_conv_5x5 \n",
      "sep_conv_3x3 none sep_conv_3x3 sep_conv_5x5 \n",
      "none sep_conv_5x5 sep_conv_3x3 sep_conv_3x3 sep_conv_5x5 \n",
      "epoch: 33/50 | step: 4/98 | trn loss: 0.1253 | val loss: 0.9986\n",
      "Accuracy of the network on the test images: 76 %\n"
     ]
    },
    {
     "name": "stderr",
     "output_type": "stream",
     "text": [
      "100%|██████████| 98/98 [03:04<00:00,  1.88s/it]\n"
     ]
    },
    {
     "name": "stdout",
     "output_type": "stream",
     "text": [
      "epoch: 33\n",
      "Accuracy of     0 : 75 %\n",
      "Accuracy of     1 : 95 %\n",
      "Accuracy of     2 : 40 %\n",
      "Accuracy of     3 : 70 %\n",
      "Accuracy of     4 : 87 %\n",
      "Accuracy of     5 : 45 %\n",
      "Accuracy of     6 : 66 %\n",
      "Accuracy of     7 : 78 %\n",
      "Accuracy of     8 : 91 %\n",
      "Accuracy of     9 : 55 %\n",
      "arch_param_normal\n",
      "sep_conv_3x3 sep_conv_5x5 \n",
      "sep_conv_5x5 sep_conv_5x5 sep_conv_5x5 \n",
      "sep_conv_5x5 sep_conv_5x5 sep_conv_5x5 sep_conv_5x5 \n",
      "sep_conv_5x5 max_pool_3x3 max_pool_3x3 sep_conv_5x5 max_pool_3x3 \n",
      "\n",
      "arch_param_reduc\n",
      "sep_conv_5x5 none \n",
      "sep_conv_5x5 sep_conv_3x3 dil_conv_5x5 \n",
      "sep_conv_3x3 none sep_conv_3x3 sep_conv_5x5 \n",
      "none sep_conv_5x5 sep_conv_3x3 sep_conv_3x3 sep_conv_5x5 \n",
      "epoch: 34/50 | step: 4/98 | trn loss: 0.1302 | val loss: 1.3926\n",
      "Accuracy of the network on the test images: 70 %\n"
     ]
    },
    {
     "name": "stderr",
     "output_type": "stream",
     "text": [
      "100%|██████████| 98/98 [02:51<00:00,  1.75s/it]\n"
     ]
    },
    {
     "name": "stdout",
     "output_type": "stream",
     "text": [
      "epoch: 34\n",
      "Accuracy of     0 : 75 %\n",
      "Accuracy of     1 : 77 %\n",
      "Accuracy of     2 : 57 %\n",
      "Accuracy of     3 : 59 %\n",
      "Accuracy of     4 : 83 %\n",
      "Accuracy of     5 : 59 %\n",
      "Accuracy of     6 : 88 %\n",
      "Accuracy of     7 : 78 %\n",
      "Accuracy of     8 : 93 %\n",
      "Accuracy of     9 : 86 %\n",
      "arch_param_normal\n",
      "sep_conv_3x3 sep_conv_5x5 \n",
      "sep_conv_5x5 sep_conv_5x5 sep_conv_5x5 \n",
      "sep_conv_5x5 sep_conv_5x5 sep_conv_5x5 sep_conv_5x5 \n",
      "sep_conv_5x5 max_pool_3x3 max_pool_3x3 sep_conv_5x5 max_pool_3x3 \n",
      "\n",
      "arch_param_reduc\n",
      "sep_conv_5x5 none \n",
      "sep_conv_5x5 sep_conv_3x3 dil_conv_5x5 \n",
      "none none sep_conv_3x3 sep_conv_5x5 \n",
      "none sep_conv_5x5 sep_conv_3x3 sep_conv_3x3 sep_conv_5x5 \n",
      "epoch: 35/50 | step: 4/98 | trn loss: 0.1142 | val loss: 1.0300\n",
      "Accuracy of the network on the test images: 75 %\n"
     ]
    },
    {
     "name": "stderr",
     "output_type": "stream",
     "text": [
      "100%|██████████| 98/98 [02:58<00:00,  1.83s/it]\n"
     ]
    },
    {
     "name": "stdout",
     "output_type": "stream",
     "text": [
      "epoch: 35\n",
      "Accuracy of     0 : 82 %\n",
      "Accuracy of     1 : 79 %\n",
      "Accuracy of     2 : 68 %\n",
      "Accuracy of     3 : 40 %\n",
      "Accuracy of     4 : 84 %\n",
      "Accuracy of     5 : 64 %\n",
      "Accuracy of     6 : 75 %\n",
      "Accuracy of     7 : 83 %\n",
      "Accuracy of     8 : 84 %\n",
      "Accuracy of     9 : 91 %\n",
      "arch_param_normal\n",
      "sep_conv_3x3 sep_conv_5x5 \n",
      "sep_conv_5x5 sep_conv_5x5 sep_conv_5x5 \n",
      "sep_conv_5x5 sep_conv_5x5 sep_conv_5x5 sep_conv_5x5 \n",
      "sep_conv_5x5 max_pool_3x3 max_pool_3x3 sep_conv_5x5 max_pool_3x3 \n",
      "\n",
      "arch_param_reduc\n",
      "sep_conv_5x5 sep_conv_5x5 \n",
      "sep_conv_5x5 sep_conv_3x3 dil_conv_5x5 \n",
      "sep_conv_3x3 none sep_conv_3x3 sep_conv_5x5 \n",
      "none sep_conv_5x5 sep_conv_3x3 sep_conv_3x3 sep_conv_5x5 \n",
      "epoch: 36/50 | step: 4/98 | trn loss: 0.0892 | val loss: 1.0707\n",
      "Accuracy of the network on the test images: 75 %\n"
     ]
    },
    {
     "name": "stderr",
     "output_type": "stream",
     "text": [
      "100%|██████████| 98/98 [02:59<00:00,  1.83s/it]\n"
     ]
    },
    {
     "name": "stdout",
     "output_type": "stream",
     "text": [
      "epoch: 36\n",
      "Accuracy of     0 : 85 %\n",
      "Accuracy of     1 : 86 %\n",
      "Accuracy of     2 : 63 %\n",
      "Accuracy of     3 : 48 %\n",
      "Accuracy of     4 : 72 %\n",
      "Accuracy of     5 : 72 %\n",
      "Accuracy of     6 : 85 %\n",
      "Accuracy of     7 : 81 %\n",
      "Accuracy of     8 : 89 %\n",
      "Accuracy of     9 : 64 %\n",
      "arch_param_normal\n",
      "sep_conv_3x3 sep_conv_5x5 \n",
      "sep_conv_5x5 sep_conv_5x5 sep_conv_5x5 \n",
      "sep_conv_5x5 sep_conv_5x5 max_pool_3x3 sep_conv_5x5 \n",
      "sep_conv_5x5 max_pool_3x3 max_pool_3x3 sep_conv_5x5 max_pool_3x3 \n",
      "\n",
      "arch_param_reduc\n",
      "sep_conv_5x5 sep_conv_5x5 \n",
      "sep_conv_5x5 sep_conv_3x3 dil_conv_5x5 \n",
      "sep_conv_3x3 none sep_conv_3x3 sep_conv_5x5 \n",
      "none sep_conv_5x5 sep_conv_3x3 sep_conv_3x3 sep_conv_5x5 \n",
      "epoch: 37/50 | step: 4/98 | trn loss: 0.0797 | val loss: 1.1313\n",
      "Accuracy of the network on the test images: 75 %\n"
     ]
    },
    {
     "name": "stderr",
     "output_type": "stream",
     "text": [
      "100%|██████████| 98/98 [02:56<00:00,  1.80s/it]\n"
     ]
    },
    {
     "name": "stdout",
     "output_type": "stream",
     "text": [
      "epoch: 37\n",
      "Accuracy of     0 : 69 %\n",
      "Accuracy of     1 : 92 %\n",
      "Accuracy of     2 : 69 %\n",
      "Accuracy of     3 : 54 %\n",
      "Accuracy of     4 : 78 %\n",
      "Accuracy of     5 : 71 %\n",
      "Accuracy of     6 : 81 %\n",
      "Accuracy of     7 : 66 %\n",
      "Accuracy of     8 : 92 %\n",
      "Accuracy of     9 : 83 %\n",
      "arch_param_normal\n",
      "sep_conv_3x3 sep_conv_5x5 \n",
      "sep_conv_5x5 sep_conv_5x5 sep_conv_5x5 \n",
      "sep_conv_5x5 sep_conv_5x5 sep_conv_5x5 sep_conv_5x5 \n",
      "sep_conv_5x5 max_pool_3x3 max_pool_3x3 sep_conv_5x5 max_pool_3x3 \n",
      "\n",
      "arch_param_reduc\n",
      "sep_conv_5x5 sep_conv_5x5 \n",
      "sep_conv_5x5 sep_conv_3x3 dil_conv_5x5 \n",
      "none none sep_conv_3x3 sep_conv_5x5 \n",
      "none sep_conv_5x5 sep_conv_3x3 sep_conv_3x3 sep_conv_5x5 \n",
      "epoch: 38/50 | step: 4/98 | trn loss: 0.0768 | val loss: 1.1331\n",
      "Accuracy of the network on the test images: 75 %\n"
     ]
    },
    {
     "name": "stderr",
     "output_type": "stream",
     "text": [
      "100%|██████████| 98/98 [02:59<00:00,  1.84s/it]\n"
     ]
    },
    {
     "name": "stdout",
     "output_type": "stream",
     "text": [
      "epoch: 38\n",
      "Accuracy of     0 : 71 %\n",
      "Accuracy of     1 : 92 %\n",
      "Accuracy of     2 : 52 %\n",
      "Accuracy of     3 : 76 %\n",
      "Accuracy of     4 : 77 %\n",
      "Accuracy of     5 : 59 %\n",
      "Accuracy of     6 : 79 %\n",
      "Accuracy of     7 : 78 %\n",
      "Accuracy of     8 : 90 %\n",
      "Accuracy of     9 : 79 %\n",
      "arch_param_normal\n",
      "sep_conv_3x3 sep_conv_5x5 \n",
      "sep_conv_5x5 sep_conv_5x5 sep_conv_5x5 \n",
      "sep_conv_5x5 sep_conv_5x5 sep_conv_5x5 sep_conv_5x5 \n",
      "sep_conv_5x5 max_pool_3x3 max_pool_3x3 sep_conv_5x5 max_pool_3x3 \n",
      "\n",
      "arch_param_reduc\n",
      "sep_conv_5x5 sep_conv_5x5 \n",
      "sep_conv_5x5 sep_conv_3x3 dil_conv_5x5 \n",
      "none none sep_conv_3x3 sep_conv_5x5 \n",
      "none sep_conv_5x5 sep_conv_3x3 sep_conv_3x3 sep_conv_5x5 \n",
      "epoch: 39/50 | step: 4/98 | trn loss: 0.0716 | val loss: 1.1922\n",
      "Accuracy of the network on the test images: 75 %\n"
     ]
    },
    {
     "name": "stderr",
     "output_type": "stream",
     "text": [
      " 38%|███▊      | 37/98 [01:08<01:42,  1.69s/it]"
     ]
    }
   ],
   "source": [
    "from tqdm import tqdm\n",
    "import torch.nn.functional as F\n",
    "\n",
    "num_classes = 10\n",
    "trn_loss_list = []\n",
    "val_loss_list = []\n",
    "acc_list = []\n",
    "acc_list_aug = []\n",
    "num_batches=len(trainloader)\n",
    "total_epoch = 50\n",
    "\n",
    "for epoch in range(total_epoch):   # 데이터셋을 수차례 반복합니다.\n",
    "    net.train()\n",
    "    running_loss = 0.0\n",
    "    for i, data in tqdm(enumerate(trainloader, 0),total=len(trainloader)):\n",
    "        if i%6 == 0 and epoch != 0:\n",
    "            # [inputs, labels]의 목록인 data로부터 입력을 받은 후;\n",
    "            inputs, labels = data[0].to(device), data[1].to(device)\n",
    "\n",
    "            # 변화도(Gradient) 매개변수를 0으로 만들고\n",
    "            optimizer_arch.zero_grad()\n",
    "\n",
    "            # 순전파 + 역전파 + 최적화를 한 후\n",
    "            outputs = net(inputs)\n",
    "            loss = criterion(outputs, labels)\n",
    "            loss.backward()\n",
    "            optimizer_arch.step()\n",
    "            running_loss += loss.item()\n",
    "        else:\n",
    "            # [inputs, labels]의 목록인 data로부터 입력을 받은 후;\n",
    "            inputs, labels = data[0].to(device), data[1].to(device)\n",
    "\n",
    "            # 변화도(Gradient) 매개변수를 0으로 만들고\n",
    "            optimizer_weight.zero_grad()\n",
    "\n",
    "            # 순전파 + 역전파 + 최적화를 한 후\n",
    "            outputs = net(inputs)\n",
    "            loss = criterion(outputs, labels)\n",
    "            loss.backward()\n",
    "            optimizer_weight.step()\n",
    "            running_loss += loss.item()\n",
    "#         print(loss.item())\n",
    "        \n",
    "    net.eval()\n",
    "    with torch.no_grad(): # very very very very important!!!\n",
    "        val_loss = 0.0\n",
    "        class_correct = list(0. for i in range(num_classes))\n",
    "        class_total = list(0. for i in range(num_classes))\n",
    "        correct = 0\n",
    "        total = 0\n",
    "        for j,val in enumerate(testloader):\n",
    "            v1 = val[0].to(device)\n",
    "            val_labels = val[1].to(device)\n",
    "            val_output = net(v1)\n",
    "            v_loss = criterion(val_output, val_labels)\n",
    "            val_loss += v_loss\n",
    "            _, predicted = torch.max(val_output, 1)\n",
    "            c = (predicted == val_labels).squeeze()\n",
    "            total += val_labels.size(0)\n",
    "            correct += (predicted == val_labels).sum().item()\n",
    "            for i in range(len(val_labels)):\n",
    "                val_label = val_labels[i]\n",
    "                class_correct[val_label] += c[i].item()\n",
    "                class_total[val_label] += 1\n",
    "\n",
    "        print(\"epoch:\",str(epoch))\n",
    "        temp_acc = []\n",
    "        for i in range(num_classes):\n",
    "            if class_total[i]==0:\n",
    "                print('class_total = 0',class_correct,class_total)\n",
    "            else:\n",
    "                print('Accuracy of %5s : %2d %%' % (i, 100 * class_correct[i] / class_total[i]))\n",
    "                temp_acc.append(100 * class_correct[i] / class_total[i])\n",
    "        acc_list.append(temp_acc)\n",
    "    \n",
    "    print('arch_param_normal')\n",
    "    for i in range(4):\n",
    "        for op in torch.max(F.softmax(net.module.arch_param_normal[i],dim=1),1)[1]:\n",
    "            print(OPS[op],end=' ')\n",
    "        print()\n",
    "#         print(torch.max(F.softmax(net.module.arch_param_normal[i],dim=1),1)[1])\n",
    "\n",
    "    print()\n",
    "    print('arch_param_reduc')\n",
    "    for i in range(4):\n",
    "        for op in torch.max(F.softmax(net.module.arch_param_reduc[i],dim=1),1)[1]:\n",
    "            print(OPS[op],end=' ')\n",
    "        print()\n",
    "\n",
    "    print(\"epoch: {}/{} | step: {}/{} | trn loss: {:.4f} | val loss: {:.4f}\".format(\n",
    "        epoch+1, total_epoch, i+1, num_batches, running_loss / len(trainloader), val_loss / len(testloader)\n",
    "    ))        \n",
    "    print('Accuracy of the network on the test images: %d %%' % (100 * correct / total))\n",
    "\n",
    "    trn_loss_list.append(running_loss/1875)\n",
    "    val_loss_list.append(val_loss/len(testloader))\n",
    "    running_loss = 0.0\n",
    "\n",
    "print('Finished Training')"
   ]
  },
  {
   "cell_type": "code",
   "execution_count": null,
   "metadata": {},
   "outputs": [],
   "source": [
    "import matplotlib.pyplot as plt\n",
    "import numpy as np\n",
    "\n",
    "plt.title('val_acc')\n",
    "plt.plot([np.mean(x) for x in acc_list])\n",
    "plt.legend()\n",
    "plt.show()\n",
    "plt.title('val_loss')\n",
    "plt.plot(val_loss_list)\n",
    "plt.legend()\n",
    "plt.show()"
   ]
  },
  {
   "cell_type": "code",
   "execution_count": null,
   "metadata": {},
   "outputs": [],
   "source": [
    "import torch.nn.functional as F\n",
    "\n",
    "print('arch_param_normal')\n",
    "for i in range(4):\n",
    "    print(torch.max(F.softmax(net.module.arch_param_normal[i],dim=1),1)[1])\n",
    "    \n",
    "print()\n",
    "print('arch_param_reduc')\n",
    "for i in range(4):\n",
    "    print(torch.max(F.softmax(net.module.arch_param_reduc[i],dim=1),1)[1])"
   ]
  },
  {
   "cell_type": "code",
   "execution_count": null,
   "metadata": {},
   "outputs": [],
   "source": [
    "net.module.arch_param_reduc"
   ]
  },
  {
   "cell_type": "code",
   "execution_count": null,
   "metadata": {},
   "outputs": [],
   "source": []
  }
 ],
 "metadata": {
  "kernelspec": {
   "display_name": "Python 3",
   "language": "python",
   "name": "python3"
  },
  "language_info": {
   "codemirror_mode": {
    "name": "ipython",
    "version": 3
   },
   "file_extension": ".py",
   "mimetype": "text/x-python",
   "name": "python",
   "nbconvert_exporter": "python",
   "pygments_lexer": "ipython3",
   "version": "3.6.9"
  }
 },
 "nbformat": 4,
 "nbformat_minor": 4
}
