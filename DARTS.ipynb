{
 "cells": [
  {
   "cell_type": "code",
   "execution_count": 1,
   "metadata": {},
   "outputs": [
    {
     "name": "stdout",
     "output_type": "stream",
     "text": [
      "Tue Jul 14 09:47:06 2020       \r\n",
      "+-----------------------------------------------------------------------------+\r\n",
      "| NVIDIA-SMI 440.33.01    Driver Version: 440.33.01    CUDA Version: 10.2     |\r\n",
      "|-------------------------------+----------------------+----------------------+\r\n",
      "| GPU  Name        Persistence-M| Bus-Id        Disp.A | Volatile Uncorr. ECC |\r\n",
      "| Fan  Temp  Perf  Pwr:Usage/Cap|         Memory-Usage | GPU-Util  Compute M. |\r\n",
      "|===============================+======================+======================|\r\n",
      "|   0  GeForce RTX 208...  Off  | 00000000:3B:00.0 Off |                  N/A |\r\n",
      "| 31%   51C    P0    64W / 250W |      0MiB / 11019MiB |      0%      Default |\r\n",
      "+-------------------------------+----------------------+----------------------+\r\n",
      "|   1  GeForce RTX 208...  Off  | 00000000:5E:00.0 Off |                  N/A |\r\n",
      "| 34%   53C    P0    69W / 250W |      0MiB / 11019MiB |      1%      Default |\r\n",
      "+-------------------------------+----------------------+----------------------+\r\n",
      "|   2  GeForce RTX 208...  Off  | 00000000:86:00.0 Off |                  N/A |\r\n",
      "| 36%   54C    P0    54W / 250W |      0MiB / 11019MiB |      0%      Default |\r\n",
      "+-------------------------------+----------------------+----------------------+\r\n",
      "|   3  GeForce RTX 208...  Off  | 00000000:AF:00.0 Off |                  N/A |\r\n",
      "| 49%   59C    P0    38W / 250W |      0MiB / 11016MiB |      0%      Default |\r\n",
      "+-------------------------------+----------------------+----------------------+\r\n",
      "                                                                               \r\n",
      "+-----------------------------------------------------------------------------+\r\n",
      "| Processes:                                                       GPU Memory |\r\n",
      "|  GPU       PID   Type   Process name                             Usage      |\r\n",
      "|=============================================================================|\r\n",
      "|  No running processes found                                                 |\r\n",
      "+-----------------------------------------------------------------------------+\r\n"
     ]
    }
   ],
   "source": [
    "!nvidia-smi"
   ]
  },
  {
   "cell_type": "code",
   "execution_count": 2,
   "metadata": {},
   "outputs": [],
   "source": [
    "import torch\n",
    "import torchvision\n",
    "import torchvision.transforms as transforms"
   ]
  },
  {
   "cell_type": "code",
   "execution_count": 3,
   "metadata": {},
   "outputs": [
    {
     "name": "stdout",
     "output_type": "stream",
     "text": [
      "Files already downloaded and verified\n",
      "Files already downloaded and verified\n"
     ]
    }
   ],
   "source": [
    "transform = transforms.Compose(\n",
    "    [transforms.ToTensor(),\n",
    "     transforms.Normalize((0.5, 0.5, 0.5), (0.5, 0.5, 0.5))])\n",
    "\n",
    "trainset = torchvision.datasets.CIFAR10(root='./data', train=True,\n",
    "                                        download=True, transform=transform)\n",
    "trainloader = torch.utils.data.DataLoader(trainset, batch_size=256,\n",
    "                                          shuffle=True, num_workers=2)\n",
    "\n",
    "testset = torchvision.datasets.CIFAR10(root='./data', train=False,\n",
    "                                       download=True, transform=transform)\n",
    "testloader = torch.utils.data.DataLoader(testset, batch_size=256,\n",
    "                                         shuffle=False, num_workers=2)\n",
    "\n",
    "classes = ('plane', 'car', 'bird', 'cat',\n",
    "           'deer', 'dog', 'frog', 'horse', 'ship', 'truck')"
   ]
  },
  {
   "cell_type": "code",
   "execution_count": 4,
   "metadata": {},
   "outputs": [
    {
     "data": {
      "text/plain": [
       "tensor([-5.2286e-24,  4.5731e-41, -5.3081e-24,  4.5731e-41, -2.7301e-09,\n",
       "         4.5730e-41, -5.2832e-24,  4.5731e-41])"
      ]
     },
     "execution_count": 4,
     "metadata": {},
     "output_type": "execute_result"
    }
   ],
   "source": [
    "torch.Tensor(8)"
   ]
  },
  {
   "cell_type": "code",
   "execution_count": 5,
   "metadata": {},
   "outputs": [],
   "source": [
    "from torch.nn.parallel.data_parallel import DataParallel\n",
    "from torch.nn.parallel import DistributedDataParallel as DDP\n",
    "import torch.distributed as dist\n",
    "import os\n",
    "\n",
    "os.environ['MASTER_ADDR'] = '127.0.0.1'\n",
    "os.environ['MASTER_PORT'] = '29500'\n",
    "dist.init_process_group(backend='nccl',rank=0,world_size=1)"
   ]
  },
  {
   "cell_type": "code",
   "execution_count": 6,
   "metadata": {},
   "outputs": [],
   "source": [
    "from darts import Darts\n",
    "\n",
    "net = Darts(C=36,num_classes=10,num_layers=8)\n",
    "\n"
   ]
  },
  {
   "cell_type": "code",
   "execution_count": 7,
   "metadata": {},
   "outputs": [
    {
     "name": "stdout",
     "output_type": "stream",
     "text": [
      "cuda:2\n"
     ]
    }
   ],
   "source": [
    "device = torch.device(\"cuda:2\" if torch.cuda.is_available() else \"cpu\")\n",
    "\n",
    "# CUDA 기기가 존재한다면, 아래 코드가 CUDA 장치를 출력합니다:\n",
    "\n",
    "print(device)"
   ]
  },
  {
   "cell_type": "code",
   "execution_count": 8,
   "metadata": {},
   "outputs": [],
   "source": [
    "net.to(device)\n",
    "if torch.cuda.device_count() > 1:\n",
    "    net = DDP(net,device_ids = [2,3])"
   ]
  },
  {
   "cell_type": "code",
   "execution_count": 9,
   "metadata": {},
   "outputs": [],
   "source": [
    "# [x if 'arch' in x[0] else  for x in net.named_parameters()]\n",
    "arch_params = []\n",
    "weight_params = []\n",
    "for x in net.named_parameters():\n",
    "    if 'arch' in x[0]:\n",
    "        arch_params.append(x[1])\n",
    "    else:\n",
    "        weight_params.append(x[1])\n"
   ]
  },
  {
   "cell_type": "code",
   "execution_count": 10,
   "metadata": {},
   "outputs": [],
   "source": [
    "import torch.optim as optim\n",
    "import torch\n",
    "import torch.nn as nn\n",
    "\n",
    "criterion = nn.CrossEntropyLoss()\n",
    "optimizer_weight = optim.SGD(weight_params, lr=0.01, momentum=0.9)\n",
    "optimizer_arch = optim.Adam(arch_params, lr=0.001)"
   ]
  },
  {
   "cell_type": "code",
   "execution_count": null,
   "metadata": {
    "scrolled": true
   },
   "outputs": [
    {
     "name": "stderr",
     "output_type": "stream",
     "text": [
      "100%|██████████| 196/196 [03:15<00:00,  1.00it/s]\n"
     ]
    },
    {
     "name": "stdout",
     "output_type": "stream",
     "text": [
      "epoch: 0\n",
      "Accuracy of     0 : 41 %\n",
      "Accuracy of     1 : 93 %\n",
      "Accuracy of     2 : 17 %\n",
      "Accuracy of     3 : 18 %\n",
      "Accuracy of     4 : 28 %\n",
      "Accuracy of     5 : 16 %\n",
      "Accuracy of     6 : 56 %\n",
      "Accuracy of     7 : 42 %\n",
      "Accuracy of     8 : 52 %\n",
      "Accuracy of     9 : 37 %\n",
      "arch_param_normal\n",
      "tensor([0, 0], device='cuda:2')\n",
      "tensor([5, 1, 0], device='cuda:2')\n",
      "tensor([0, 0, 0, 0], device='cuda:2')\n",
      "tensor([0, 0, 0, 0, 0], device='cuda:2')\n",
      "\n",
      "arch_param_reduc\n",
      "tensor([0, 0], device='cuda:2')\n",
      "tensor([0, 0, 7], device='cuda:2')\n",
      "tensor([0, 0, 0, 0], device='cuda:2')\n",
      "tensor([0, 0, 0, 0, 0], device='cuda:2')\n",
      "epoch: 1/10 | step: 4/196 | trn loss: 1.5228 | val loss: 1.8531\n",
      "Accuracy of the network on the test images: 40 %\n"
     ]
    },
    {
     "name": "stderr",
     "output_type": "stream",
     "text": [
      "100%|██████████| 196/196 [03:12<00:00,  1.02it/s]\n"
     ]
    },
    {
     "name": "stdout",
     "output_type": "stream",
     "text": [
      "epoch: 1\n",
      "Accuracy of     0 : 57 %\n",
      "Accuracy of     1 : 79 %\n",
      "Accuracy of     2 : 50 %\n",
      "Accuracy of     3 : 45 %\n",
      "Accuracy of     4 : 45 %\n",
      "Accuracy of     5 : 48 %\n",
      "Accuracy of     6 : 67 %\n",
      "Accuracy of     7 : 76 %\n",
      "Accuracy of     8 : 79 %\n",
      "Accuracy of     9 : 33 %\n",
      "arch_param_normal\n",
      "tensor([0, 4], device='cuda:2')\n",
      "tensor([4, 1, 4], device='cuda:2')\n",
      "tensor([3, 4, 0, 5], device='cuda:2')\n",
      "tensor([3, 2, 1, 1, 1], device='cuda:2')\n",
      "\n",
      "arch_param_reduc\n",
      "tensor([1, 7], device='cuda:2')\n",
      "tensor([6, 5, 7], device='cuda:2')\n",
      "tensor([0, 3, 4, 0], device='cuda:2')\n",
      "tensor([7, 7, 2, 1, 0], device='cuda:2')\n",
      "epoch: 2/10 | step: 4/196 | trn loss: 1.1395 | val loss: 1.1543\n",
      "Accuracy of the network on the test images: 58 %\n"
     ]
    },
    {
     "name": "stderr",
     "output_type": "stream",
     "text": [
      "100%|██████████| 196/196 [03:09<00:00,  1.03it/s]\n"
     ]
    },
    {
     "name": "stdout",
     "output_type": "stream",
     "text": [
      "epoch: 2\n",
      "Accuracy of     0 : 69 %\n",
      "Accuracy of     1 : 71 %\n",
      "Accuracy of     2 : 53 %\n",
      "Accuracy of     3 : 54 %\n",
      "Accuracy of     4 : 28 %\n",
      "Accuracy of     5 : 29 %\n",
      "Accuracy of     6 : 93 %\n",
      "Accuracy of     7 : 45 %\n",
      "Accuracy of     8 : 66 %\n",
      "Accuracy of     9 : 59 %\n",
      "arch_param_normal\n",
      "tensor([1, 4], device='cuda:2')\n",
      "tensor([4, 1, 4], device='cuda:2')\n",
      "tensor([4, 4, 4, 4], device='cuda:2')\n",
      "tensor([3, 2, 1, 4, 1], device='cuda:2')\n",
      "\n",
      "arch_param_reduc\n",
      "tensor([1, 7], device='cuda:2')\n",
      "tensor([4, 7, 7], device='cuda:2')\n",
      "tensor([0, 6, 4, 2], device='cuda:2')\n",
      "tensor([1, 7, 1, 3, 1], device='cuda:2')\n",
      "epoch: 3/10 | step: 4/196 | trn loss: 0.9652 | val loss: 1.2180\n",
      "Accuracy of the network on the test images: 57 %\n"
     ]
    },
    {
     "name": "stderr",
     "output_type": "stream",
     "text": [
      " 16%|█▌        | 31/196 [00:31<02:45,  1.00s/it]"
     ]
    }
   ],
   "source": [
    "from tqdm import tqdm\n",
    "import torch.nn.functional as F\n",
    "\n",
    "num_classes = 10\n",
    "trn_loss_list = []\n",
    "val_loss_list = []\n",
    "acc_list = []\n",
    "acc_list_aug = []\n",
    "num_batches=len(trainloader)\n",
    "total_epoch = 10\n",
    "\n",
    "for epoch in range(total_epoch):   # 데이터셋을 수차례 반복합니다.\n",
    "    net.train()\n",
    "    running_loss = 0.0\n",
    "    for i, data in tqdm(enumerate(trainloader, 0),total=len(trainloader)):\n",
    "        if i%6 == 0 and epoch != 0:\n",
    "            # [inputs, labels]의 목록인 data로부터 입력을 받은 후;\n",
    "            inputs, labels = data[0].to(device), data[1].to(device)\n",
    "\n",
    "            # 변화도(Gradient) 매개변수를 0으로 만들고\n",
    "            optimizer_arch.zero_grad()\n",
    "\n",
    "            # 순전파 + 역전파 + 최적화를 한 후\n",
    "            outputs = net(inputs)\n",
    "            loss = criterion(outputs, labels)\n",
    "            loss.backward()\n",
    "            optimizer_arch.step()\n",
    "            running_loss += loss.item()\n",
    "        else:\n",
    "            # [inputs, labels]의 목록인 data로부터 입력을 받은 후;\n",
    "            inputs, labels = data[0].to(device), data[1].to(device)\n",
    "\n",
    "            # 변화도(Gradient) 매개변수를 0으로 만들고\n",
    "            optimizer_weight.zero_grad()\n",
    "\n",
    "            # 순전파 + 역전파 + 최적화를 한 후\n",
    "            outputs = net(inputs)\n",
    "            loss = criterion(outputs, labels)\n",
    "            loss.backward()\n",
    "            optimizer_weight.step()\n",
    "            running_loss += loss.item()\n",
    "#         print(loss.item())\n",
    "        \n",
    "    net.eval()\n",
    "    with torch.no_grad(): # very very very very important!!!\n",
    "        val_loss = 0.0\n",
    "        class_correct = list(0. for i in range(num_classes))\n",
    "        class_total = list(0. for i in range(num_classes))\n",
    "        correct = 0\n",
    "        total = 0\n",
    "        for j,val in enumerate(testloader):\n",
    "            v1 = val[0].to(device)\n",
    "            val_labels = val[1].to(device)\n",
    "            val_output = net(v1)\n",
    "            v_loss = criterion(val_output, val_labels)\n",
    "            val_loss += v_loss\n",
    "            _, predicted = torch.max(val_output, 1)\n",
    "            c = (predicted == val_labels).squeeze()\n",
    "            total += val_labels.size(0)\n",
    "            correct += (predicted == val_labels).sum().item()\n",
    "            for i in range(len(val_labels)):\n",
    "                val_label = val_labels[i]\n",
    "                class_correct[val_label] += c[i].item()\n",
    "                class_total[val_label] += 1\n",
    "\n",
    "        print(\"epoch:\",str(epoch))\n",
    "        temp_acc = []\n",
    "        for i in range(num_classes):\n",
    "            if class_total[i]==0:\n",
    "                print('class_total = 0',class_correct,class_total)\n",
    "            else:\n",
    "                print('Accuracy of %5s : %2d %%' % (i, 100 * class_correct[i] / class_total[i]))\n",
    "                temp_acc.append(100 * class_correct[i] / class_total[i])\n",
    "        acc_list.append(temp_acc)\n",
    "    \n",
    "    print('arch_param_normal')\n",
    "    for i in range(4):\n",
    "        print(torch.max(F.softmax(net.module.arch_param_normal[i],dim=1),1)[1])\n",
    "\n",
    "    print()\n",
    "    print('arch_param_reduc')\n",
    "    for i in range(4):\n",
    "        print(torch.max(F.softmax(net.module.arch_param_reduc[i],dim=1),1)[1])\n",
    "\n",
    "    print(\"epoch: {}/{} | step: {}/{} | trn loss: {:.4f} | val loss: {:.4f}\".format(\n",
    "        epoch+1, total_epoch, i+1, num_batches, running_loss / len(trainloader), val_loss / len(testloader)\n",
    "    ))        \n",
    "    print('Accuracy of the network on the test images: %d %%' % (100 * correct / total))\n",
    "\n",
    "    trn_loss_list.append(running_loss/1875)\n",
    "    val_loss_list.append(val_loss/len(testloader))\n",
    "    running_loss = 0.0\n",
    "\n",
    "print('Finished Training')"
   ]
  },
  {
   "cell_type": "code",
   "execution_count": null,
   "metadata": {},
   "outputs": [],
   "source": [
    "import matplotlib.pyplot as plt\n",
    "import numpy as np\n",
    "\n",
    "plt.title('val_acc')\n",
    "plt.plot([np.mean(x) for x in acc_list])\n",
    "plt.legend()\n",
    "plt.show()\n",
    "plt.title('val_loss')\n",
    "plt.plot(val_loss_list)\n",
    "plt.legend()\n",
    "plt.show()"
   ]
  },
  {
   "cell_type": "code",
   "execution_count": null,
   "metadata": {},
   "outputs": [],
   "source": [
    "import torch.nn.functional as F\n",
    "\n",
    "print('arch_param_normal')\n",
    "for i in range(4):\n",
    "    print(torch.max(F.softmax(net.module.arch_param_normal[i],dim=1),1)[1])\n",
    "    \n",
    "print()\n",
    "print('arch_param_reduc')\n",
    "for i in range(4):\n",
    "    print(torch.max(F.softmax(net.module.arch_param_reduc[i],dim=1),1)[1])"
   ]
  },
  {
   "cell_type": "code",
   "execution_count": null,
   "metadata": {},
   "outputs": [],
   "source": [
    "net.module.arch_param_reduc"
   ]
  },
  {
   "cell_type": "code",
   "execution_count": null,
   "metadata": {},
   "outputs": [],
   "source": []
  }
 ],
 "metadata": {
  "kernelspec": {
   "display_name": "Python 3",
   "language": "python",
   "name": "python3"
  },
  "language_info": {
   "codemirror_mode": {
    "name": "ipython",
    "version": 3
   },
   "file_extension": ".py",
   "mimetype": "text/x-python",
   "name": "python",
   "nbconvert_exporter": "python",
   "pygments_lexer": "ipython3",
   "version": "3.6.9"
  }
 },
 "nbformat": 4,
 "nbformat_minor": 4
}
