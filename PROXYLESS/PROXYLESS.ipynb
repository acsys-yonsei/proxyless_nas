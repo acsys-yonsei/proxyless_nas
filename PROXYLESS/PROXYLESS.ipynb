{
 "cells": [
  {
   "cell_type": "code",
   "execution_count": 1,
   "metadata": {
    "scrolled": true
   },
   "outputs": [
    {
     "name": "stdout",
     "output_type": "stream",
     "text": [
      "Mon Jul 20 16:26:55 2020       \n",
      "+-----------------------------------------------------------------------------+\n",
      "| NVIDIA-SMI 440.33.01    Driver Version: 440.33.01    CUDA Version: 10.2     |\n",
      "|-------------------------------+----------------------+----------------------+\n",
      "| GPU  Name        Persistence-M| Bus-Id        Disp.A | Volatile Uncorr. ECC |\n",
      "| Fan  Temp  Perf  Pwr:Usage/Cap|         Memory-Usage | GPU-Util  Compute M. |\n",
      "|===============================+======================+======================|\n",
      "|   0  GeForce RTX 208...  Off  | 00000000:3B:00.0 Off |                  N/A |\n",
      "| 50%   56C    P2    52W / 250W |   2728MiB / 11019MiB |      0%      Default |\n",
      "+-------------------------------+----------------------+----------------------+\n",
      "|   1  GeForce RTX 208...  Off  | 00000000:5E:00.0 Off |                  N/A |\n",
      "| 32%   48C    P8    18W / 250W |     11MiB / 11019MiB |      0%      Default |\n",
      "+-------------------------------+----------------------+----------------------+\n",
      "|   2  GeForce RTX 208...  Off  | 00000000:86:00.0 Off |                  N/A |\n",
      "| 45%   57C    P0    59W / 250W |      0MiB / 11019MiB |      0%      Default |\n",
      "+-------------------------------+----------------------+----------------------+\n",
      "|   3  GeForce RTX 208...  Off  | 00000000:AF:00.0 Off |                  N/A |\n",
      "| 72%   65C    P0    36W / 250W |      0MiB / 11016MiB |      0%      Default |\n",
      "+-------------------------------+----------------------+----------------------+\n",
      "                                                                               \n",
      "+-----------------------------------------------------------------------------+\n",
      "| Processes:                                                       GPU Memory |\n",
      "|  GPU       PID   Type   Process name                             Usage      |\n",
      "|=============================================================================|\n",
      "|    0     41584      C   python3                                     2717MiB |\n",
      "+-----------------------------------------------------------------------------+\n"
     ]
    }
   ],
   "source": [
    "!nvidia-smi"
   ]
  },
  {
   "cell_type": "code",
   "execution_count": 2,
   "metadata": {},
   "outputs": [],
   "source": [
    "import torch\n",
    "import torchvision\n",
    "import torchvision.transforms as transforms"
   ]
  },
  {
   "cell_type": "code",
   "execution_count": 3,
   "metadata": {},
   "outputs": [
    {
     "name": "stdout",
     "output_type": "stream",
     "text": [
      "Files already downloaded and verified\n",
      "Files already downloaded and verified\n"
     ]
    }
   ],
   "source": [
    "transform = transforms.Compose(\n",
    "    [transforms.ToTensor(),\n",
    "     transforms.Normalize((0.5, 0.5, 0.5), (0.5, 0.5, 0.5))])\n",
    "\n",
    "trainset = torchvision.datasets.CIFAR10(root='./data', train=True,\n",
    "                                        download=True, transform=transform)\n",
    "trainloader = torch.utils.data.DataLoader(trainset, batch_size=128,\n",
    "                                          shuffle=True, num_workers=2)\n",
    "\n",
    "testset = torchvision.datasets.CIFAR10(root='./data', train=False,\n",
    "                                       download=True, transform=transform)\n",
    "testloader = torch.utils.data.DataLoader(testset, batch_size=128,\n",
    "                                         shuffle=False, num_workers=2)\n",
    "\n",
    "classes = ('plane', 'car', 'bird', 'cat',\n",
    "           'deer', 'dog', 'frog', 'horse', 'ship', 'truck')"
   ]
  },
  {
   "cell_type": "code",
   "execution_count": 4,
   "metadata": {},
   "outputs": [
    {
     "data": {
      "text/plain": [
       "tensor([2.8925e-36, 0.0000e+00, 2.8964e-36, 0.0000e+00, 2.8925e-36, 0.0000e+00,\n",
       "        2.8925e-36, 0.0000e+00])"
      ]
     },
     "execution_count": 4,
     "metadata": {},
     "output_type": "execute_result"
    }
   ],
   "source": [
    "torch.Tensor(8)"
   ]
  },
  {
   "cell_type": "code",
   "execution_count": 5,
   "metadata": {},
   "outputs": [],
   "source": [
    "from torch.nn.parallel.data_parallel import DataParallel\n",
    "from torch.nn.parallel import DistributedDataParallel as DDP\n",
    "import torch.distributed as dist\n",
    "import os\n",
    "\n",
    "os.environ['MASTER_ADDR'] = '127.0.0.1'\n",
    "os.environ['MASTER_PORT'] = '29500'\n",
    "dist.init_process_group(backend='nccl',rank=0,world_size=1)"
   ]
  },
  {
   "cell_type": "code",
   "execution_count": 6,
   "metadata": {},
   "outputs": [],
   "source": [
    "from proxyless import Proxyless\n",
    "\n",
    "net = Proxyless(C=8,num_classes=10,blocks=[16,32,64],num_layers=4)\n",
    "\n"
   ]
  },
  {
   "cell_type": "code",
   "execution_count": 7,
   "metadata": {},
   "outputs": [
    {
     "name": "stdout",
     "output_type": "stream",
     "text": [
      "cuda:1\n"
     ]
    }
   ],
   "source": [
    "device = torch.device(\"cuda:1\" if torch.cuda.is_available() else \"cpu\")\n",
    "\n",
    "# CUDA 기기가 존재한다면, 아래 코드가 CUDA 장치를 출력합니다:\n",
    "\n",
    "print(device)"
   ]
  },
  {
   "cell_type": "code",
   "execution_count": 8,
   "metadata": {},
   "outputs": [],
   "source": [
    "net.to(device)\n",
    "if torch.cuda.device_count() > 1:\n",
    "    net = DDP(net,device_ids = [1],find_unused_parameters=True)\n",
    "    pass"
   ]
  },
  {
   "cell_type": "code",
   "execution_count": 9,
   "metadata": {},
   "outputs": [],
   "source": [
    "# [x if 'arch' in x[0] else  for x in net.named_parameters()]\n",
    "arch_params = []\n",
    "weight_params = []\n",
    "for x in net.named_parameters():\n",
    "    if 'alpha' in x[0]:\n",
    "        arch_params.append(x[1])\n",
    "    else:\n",
    "        weight_params.append(x[1])\n"
   ]
  },
  {
   "cell_type": "code",
   "execution_count": 10,
   "metadata": {},
   "outputs": [],
   "source": [
    "import torch.optim as optim\n",
    "import torch\n",
    "import torch.nn as nn\n",
    "\n",
    "criterion = nn.CrossEntropyLoss()\n",
    "optimizer_weight = optim.SGD(weight_params, lr=0.1, momentum=0.9)\n",
    "optimizer_arch = optim.Adam(arch_params, lr=0.001)"
   ]
  },
  {
   "cell_type": "code",
   "execution_count": null,
   "metadata": {
    "scrolled": true
   },
   "outputs": [
    {
     "name": "stderr",
     "output_type": "stream",
     "text": [
      "100%|██████████| 391/391 [00:56<00:00,  6.98it/s]\n"
     ]
    },
    {
     "name": "stdout",
     "output_type": "stream",
     "text": [
      "epoch: 0\n",
      "Accuracy of     0 : 11 %\n",
      "Accuracy of     1 : 14 %\n",
      "Accuracy of     2 : 17 %\n",
      "Accuracy of     3 :  3 %\n",
      "Accuracy of     4 : 29 %\n",
      "Accuracy of     5 :  4 %\n",
      "Accuracy of     6 :  8 %\n",
      "Accuracy of     7 :  9 %\n",
      "Accuracy of     8 : 11 %\n",
      "Accuracy of     9 : 11 %\n",
      "0,3,0,0,0,0,0,0,0,3,3,3,\n",
      "epoch: 1/50 | step: 10/391 | trn loss: 2.3228 | val loss: 2.3965\n",
      "Accuracy of the network on the test images: 12 %\n"
     ]
    },
    {
     "name": "stderr",
     "output_type": "stream",
     "text": [
      " 17%|█▋        | 66/391 [00:09<00:43,  7.54it/s]"
     ]
    }
   ],
   "source": [
    "from tqdm import tqdm\n",
    "import torch.nn.functional as F\n",
    "\n",
    "num_classes = 10\n",
    "trn_loss_list = []\n",
    "val_loss_list = []\n",
    "acc_list = []\n",
    "acc_list_aug = []\n",
    "num_batches=len(trainloader)\n",
    "total_epoch = 50\n",
    "\n",
    "for epoch in range(total_epoch):   # 데이터셋을 수차례 반복합니다.\n",
    "    net.train()\n",
    "    running_loss = 0.0\n",
    "    for i, data in tqdm(enumerate(trainloader, 0),total=len(trainloader)):\n",
    "        if i%6 == 0 and epoch != 0:\n",
    "            inputs, labels = data[0].to(device), data[1].to(device)\n",
    "\n",
    "            optimizer_arch.zero_grad()\n",
    "            optimizer_weight.zero_grad()\n",
    "            net.module.binarize()\n",
    "\n",
    "            outputs = net(inputs)\n",
    "            loss = criterion(outputs, labels)\n",
    "            loss.backward()\n",
    "            net.module.set_arch_grad()\n",
    "            optimizer_arch.step()\n",
    "            running_loss += loss.item()\n",
    "        else:\n",
    "            # [inputs, labels]의 목록인 data로부터 입력을 받은 후;\n",
    "            inputs, labels = data[0].to(device), data[1].to(device)\n",
    "\n",
    "            # 변화도(Gradient) 매개변수를 0으로 만들고\n",
    "            optimizer_weight.zero_grad()\n",
    "            optimizer_arch.zero_grad()\n",
    "            net.module.binarize()\n",
    "\n",
    "            # 순전파 + 역전파 + 최적화를 한 후\n",
    "            outputs = net(inputs)\n",
    "            loss = criterion(outputs, labels)\n",
    "            loss.backward()\n",
    "            optimizer_weight.step()\n",
    "            running_loss += loss.item()\n",
    "#         print(loss.item())\n",
    "        \n",
    "    net.eval()\n",
    "    with torch.no_grad(): # very very very very important!!!\n",
    "        val_loss = 0.0\n",
    "        class_correct = list(0. for i in range(num_classes))\n",
    "        class_total = list(0. for i in range(num_classes))\n",
    "        correct = 0\n",
    "        total = 0\n",
    "        for j,val in enumerate(testloader):\n",
    "            net.module.binarize()\n",
    "            v1 = val[0].to(device)\n",
    "            val_labels = val[1].to(device)\n",
    "            val_output = net(v1)\n",
    "            v_loss = criterion(val_output, val_labels)\n",
    "            val_loss += v_loss\n",
    "            _, predicted = torch.max(val_output, 1)\n",
    "            c = (predicted == val_labels).squeeze()\n",
    "            total += val_labels.size(0)\n",
    "            correct += (predicted == val_labels).sum().item()\n",
    "            for i in range(len(val_labels)):\n",
    "                val_label = val_labels[i]\n",
    "                class_correct[val_label] += c[i].item()\n",
    "                class_total[val_label] += 1\n",
    "\n",
    "        print(\"epoch:\",str(epoch))\n",
    "        temp_acc = []\n",
    "        for i in range(num_classes):\n",
    "            if class_total[i]==0:\n",
    "                print('class_total = 0',class_correct,class_total)\n",
    "            else:\n",
    "                print('Accuracy of %5s : %2d %%' % (i, 100 * class_correct[i] / class_total[i]))\n",
    "                temp_acc.append(100 * class_correct[i] / class_total[i])\n",
    "        acc_list.append(temp_acc)\n",
    "    \n",
    "    for alp in arch_params:\n",
    "        print(torch.argmax(alp.detach().data).item(),end=',')\n",
    "    print()\n",
    "#     print('arch_param_normal')\n",
    "#     for i in range(4):\n",
    "#         for op in torch.max(F.softmax(net.module.arch_param_normal[i],dim=1),1)[1]:\n",
    "#             print(OPS[op],end=' ')\n",
    "#         print()\n",
    "# #         print(torch.max(F.softmax(net.module.arch_param_normal[i],dim=1),1)[1])\n",
    "\n",
    "#     print()\n",
    "#     print('arch_param_reduc')\n",
    "#     for i in range(4):\n",
    "#         for op in torch.max(F.softmax(net.module.arch_param_reduc[i],dim=1),1)[1]:\n",
    "#             print(OPS[op],end=' ')\n",
    "#         print()\n",
    "\n",
    "    print(\"epoch: {}/{} | step: {}/{} | trn loss: {:.4f} | val loss: {:.4f}\".format(\n",
    "        epoch+1, total_epoch, i+1, num_batches, running_loss / len(trainloader), val_loss / len(testloader)\n",
    "    ))        \n",
    "    print('Accuracy of the network on the test images: %d %%' % (100 * correct / total))\n",
    "\n",
    "    trn_loss_list.append(running_loss/1875)\n",
    "    val_loss_list.append(val_loss/len(testloader))\n",
    "    running_loss = 0.0\n",
    "\n",
    "print('Finished Training')"
   ]
  },
  {
   "cell_type": "code",
   "execution_count": null,
   "metadata": {},
   "outputs": [],
   "source": [
    "torch.argmax(alp.detach()).item()"
   ]
  },
  {
   "cell_type": "code",
   "execution_count": null,
   "metadata": {},
   "outputs": [],
   "source": [
    "import matplotlib.pyplot as plt\n",
    "import numpy as np\n",
    "\n",
    "plt.title('val_acc')\n",
    "plt.plot([np.mean(x) for x in acc_list])\n",
    "plt.legend()\n",
    "plt.show()\n",
    "plt.title('val_loss')\n",
    "plt.plot(val_loss_list)\n",
    "plt.legend()\n",
    "plt.show()"
   ]
  },
  {
   "cell_type": "code",
   "execution_count": null,
   "metadata": {},
   "outputs": [],
   "source": [
    "import torch.nn.functional as F\n",
    "\n",
    "print('arch_param_normal')\n",
    "for i in range(4):\n",
    "    print(torch.max(F.softmax(net.module.arch_param_normal[i],dim=1),1)[1])\n",
    "    \n",
    "print()\n",
    "print('arch_param_reduc')\n",
    "for i in range(4):\n",
    "    print(torch.max(F.softmax(net.module.arch_param_reduc[i],dim=1),1)[1])"
   ]
  },
  {
   "cell_type": "code",
   "execution_count": null,
   "metadata": {},
   "outputs": [],
   "source": [
    "net.module.arch_param_reduc"
   ]
  },
  {
   "cell_type": "code",
   "execution_count": null,
   "metadata": {},
   "outputs": [],
   "source": []
  }
 ],
 "metadata": {
  "kernelspec": {
   "display_name": "Python 3",
   "language": "python",
   "name": "python3"
  },
  "language_info": {
   "codemirror_mode": {
    "name": "ipython",
    "version": 3
   },
   "file_extension": ".py",
   "mimetype": "text/x-python",
   "name": "python",
   "nbconvert_exporter": "python",
   "pygments_lexer": "ipython3",
   "version": "3.6.9"
  }
 },
 "nbformat": 4,
 "nbformat_minor": 4
}
